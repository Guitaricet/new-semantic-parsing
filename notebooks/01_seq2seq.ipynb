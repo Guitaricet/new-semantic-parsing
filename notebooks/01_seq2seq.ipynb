{
 "cells": [
  {
   "cell_type": "markdown",
   "metadata": {},
   "source": [
    "This notebook is mostly useless, but has some EncoderDecoder usage examples"
   ]
  },
  {
   "cell_type": "code",
   "execution_count": 1,
   "metadata": {},
   "outputs": [],
   "source": [
    "from pprint import pprint\n",
    "\n",
    "import torch\n",
    "import torch.nn as nn\n",
    "import transformers"
   ]
  },
  {
   "cell_type": "code",
   "execution_count": 2,
   "metadata": {},
   "outputs": [],
   "source": [
    "ENCODER_NAME = 'distilbert-base-uncased'\n",
    "OUT_VOCAB_SIZE = 100\n",
    "HIDDEN = 768"
   ]
  },
  {
   "cell_type": "code",
   "execution_count": 3,
   "metadata": {},
   "outputs": [],
   "source": [
    "tokenizer = transformers.AutoTokenizer.from_pretrained(ENCODER_NAME, use_fast=True)\n",
    "encoder = transformers.AutoModel.from_pretrained(ENCODER_NAME)"
   ]
  },
  {
   "cell_type": "code",
   "execution_count": 4,
   "metadata": {},
   "outputs": [
    {
     "data": {
      "text/plain": [
       "Embeddings(\n",
       "  (word_embeddings): Embedding(30522, 768, padding_idx=0)\n",
       "  (position_embeddings): Embedding(512, 768)\n",
       "  (LayerNorm): LayerNorm((768,), eps=1e-12, elementwise_affine=True)\n",
       "  (dropout): Dropout(p=0.1, inplace=False)\n",
       ")"
      ]
     },
     "execution_count": 4,
     "metadata": {},
     "output_type": "execute_result"
    }
   ],
   "source": [
    "encoder.embeddings"
   ]
  },
  {
   "cell_type": "code",
   "execution_count": 5,
   "metadata": {},
   "outputs": [
    {
     "name": "stdout",
     "output_type": "stream",
     "text": [
      "{'attention_mask': tensor([[1, 1, 1, 1, 1, 1]]),\n",
      " 'input_ids': tensor([[ 101, 2023, 2003, 2918, 3793,  102]])}\n"
     ]
    },
    {
     "data": {
      "text/plain": [
       "torch.Size([1, 6, 768])"
      ]
     },
     "execution_count": 5,
     "metadata": {},
     "output_type": "execute_result"
    }
   ],
   "source": [
    "x = tokenizer.encode_plus('this is base text', return_tensors='pt')\n",
    "pprint(x)\n",
    "\n",
    "y = encoder(**x)[0]  # transformer returns a tuple of something (depends on the model), the first element is always hidden states of the last layer\n",
    "y.shape"
   ]
  },
  {
   "cell_type": "code",
   "execution_count": 6,
   "metadata": {},
   "outputs": [],
   "source": [
    "# BERTConfig is a generic transformer and is only decoder Transformers support by now\n",
    "decoder_config = transformers.BertConfig(\n",
    "    vocab_size=OUT_VOCAB_SIZE,\n",
    "    hidden_size=HIDDEN,\n",
    "    is_decoder=True,  # adds cross-attention modules and enables causal masking\n",
    ")\n",
    "\n",
    "# 'MaskedLM' only means an additional projection from hidden to vocab, but does not affect causal masking\n",
    "decoder = transformers.BertForMaskedLM(decoder_config)"
   ]
  },
  {
   "cell_type": "code",
   "execution_count": 7,
   "metadata": {},
   "outputs": [
    {
     "name": "stdout",
     "output_type": "stream",
     "text": [
      "tensor([[10, 38, 78, 14, 42]])\n",
      "torch.Size([1, 5, 100])\n"
     ]
    }
   ],
   "source": [
    "x = torch.randint(0, OUT_VOCAB_SIZE, (1, 5))\n",
    "pprint(x)\n",
    "\n",
    "y = decoder(x)\n",
    "\n",
    "pprint(y[0].shape)"
   ]
  },
  {
   "cell_type": "code",
   "execution_count": 8,
   "metadata": {},
   "outputs": [],
   "source": [
    "seq2seq = transformers.EncoderDecoderModel(\n",
    "    encoder=encoder,\n",
    "    decoder=decoder\n",
    ")"
   ]
  },
  {
   "cell_type": "code",
   "execution_count": 12,
   "metadata": {},
   "outputs": [],
   "source": [
    "x_enc = torch.randint(0, tokenizer.vocab_size, size=(3, 7))\n",
    "x_dec = torch.randint(0, OUT_VOCAB_SIZE, size=(3, 5))\n",
    "\n",
    "y_ids, enc_hidden = seq2seq(input_ids=x_enc, decoder_input_ids=x_dec)\n",
    "\n",
    "assert x_dec.shape == y_ids.shape[:2]\n",
    "assert x_enc.shape == enc_hidden.shape[:2]\n",
    "assert y_ids.shape[2] == OUT_VOCAB_SIZE\n",
    "assert enc_hidden.shape[2] == encoder.config.hidden_size"
   ]
  },
  {
   "cell_type": "code",
   "execution_count": null,
   "metadata": {},
   "outputs": [],
   "source": []
  }
 ],
 "metadata": {
  "kernelspec": {
   "display_name": "Python 3",
   "language": "python",
   "name": "python3"
  },
  "language_info": {
   "codemirror_mode": {
    "name": "ipython",
    "version": 3
   },
   "file_extension": ".py",
   "mimetype": "text/x-python",
   "name": "python",
   "nbconvert_exporter": "python",
   "pygments_lexer": "ipython3",
   "version": "3.7.6"
  }
 },
 "nbformat": 4,
 "nbformat_minor": 4
}
