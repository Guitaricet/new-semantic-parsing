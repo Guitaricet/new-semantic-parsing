{
 "cells": [
  {
   "cell_type": "code",
   "execution_count": 2,
   "metadata": {},
   "outputs": [],
   "source": [
    "from glob import glob\n",
    "import json\n",
    "\n",
    "import numpy as np\n",
    "import pandas as pd\n",
    "pd.set_option('max_colwidth', 200)"
   ]
  },
  {
   "cell_type": "code",
   "execution_count": 3,
   "metadata": {},
   "outputs": [],
   "source": [
    "snips_files_train = glob('../data/snips/2017-06-custom-intent-engines/*/train*full.json')\n",
    "snips_files_test = glob('../data/snips/2017-06-custom-intent-engines/*/validate*.json')"
   ]
  },
  {
   "cell_type": "code",
   "execution_count": 7,
   "metadata": {},
   "outputs": [
    {
     "name": "stdout",
     "output_type": "stream",
     "text": [
      "Processing train\n",
      "Intent: GetWeather, n examples: 2000\n",
      "Intent: AddToPlaylist, n examples: 1942\n",
      "Intent: SearchCreativeWork, n examples: 1954\n",
      "Intent: RateBook, n examples: 1956\n",
      "Intent: SearchScreeningEvent, n examples: 1959\n",
      "Intent: PlayMusic, n examples: 2000\n",
      "Intent: BookRestaurant, n examples: 1973\n",
      "\n",
      "Processing test\n",
      "Intent: GetWeather, n examples: 100\n",
      "Intent: AddToPlaylist, n examples: 100\n",
      "Intent: SearchCreativeWork, n examples: 100\n",
      "Intent: RateBook, n examples: 100\n",
      "Intent: SearchScreeningEvent, n examples: 100\n",
      "Intent: PlayMusic, n examples: 100\n",
      "Intent: BookRestaurant, n examples: 100\n"
     ]
    }
   ],
   "source": [
    "def snips2top(snips_example, intent):\n",
    "    \"\"\"Convert Snips format to TOP format\n",
    "    \n",
    "    Args:\n",
    "        snips_example: dict, one example following snips example format\n",
    "        intent: str\n",
    "\n",
    "    Returns:\n",
    "        query_text, top_format_schema\n",
    "    \"\"\"\n",
    "    query_text = ''\n",
    "    top_format_str = f'[IN:{intent.upper()}'\n",
    "\n",
    "    for text_chunk in snips_example:\n",
    "        text = text_chunk[\"text\"].strip(' ')\n",
    "\n",
    "        if \"entity\" in text_chunk:\n",
    "            entity_name = text_chunk[\"entity\"].upper()\n",
    "            top_format_str += f\" [SL:{entity_name} {text} ]\"\n",
    "\n",
    "        else:\n",
    "            top_format_str += ' ' + text\n",
    "\n",
    "        query_text += ' ' + text\n",
    "\n",
    "    query_text = query_text.strip(' ')\n",
    "    top_format_str += \" ]\"\n",
    "\n",
    "    return query_text, top_format_str\n",
    "\n",
    "\n",
    "ex1 = [\n",
    "    {'text': 'What will the weather be '},\n",
    "    {'text': 'this year', 'entity': 'timeRange'},\n",
    "    {'text': ' in '},\n",
    "    {'text': 'Horseshoe Lake State Fish and Wildlife Area',\n",
    "     'entity': 'geographic_poi'},\n",
    "    {'text': '?'}\n",
    "]\n",
    "intent1 = 'GetWeather'\n",
    "expected_out = (\"What will the weather be this year in Horseshoe Lake State Fish and Wildlife Area ?\", \"[IN:GETWEATHER What will the weather be [SL:TIMERANGE this year ] in [SL:GEOGRAPHIC_POI Horseshoe Lake State Fish and Wildlife Area ] ? ]\")\n",
    "out = snips2top(ex1, intent1)\n",
    "assert out == expected_out, out\n",
    "\n",
    "\n",
    "def make_snips_df(snips_files):\n",
    "    snips_data = []\n",
    "    for train_file in snips_files:\n",
    "        with open(train_file, encoding='latin-1') as f:\n",
    "            data = json.load(f)\n",
    "\n",
    "        assert len(data.keys()) == 1, data.keys()\n",
    "        intent = list(data.keys())[0]\n",
    "        print(f'Intent: {intent}, n examples: {len(data[intent])}')\n",
    "\n",
    "        for example in data[intent]:\n",
    "            assert len(example.keys()) == 1\n",
    "            text, schema = snips2top(example['data'], intent)\n",
    "            snips_data.append([text, text, schema])\n",
    "    \n",
    "    snips_df = pd.DataFrame(snips_data, columns=['text', 'tokens', 'schema'])\n",
    "    return snips_df\n",
    "\n",
    "print('Processing train')\n",
    "snips_trainval = make_snips_df(glob('../data/snips/2017-06-custom-intent-engines/*/train*full.json'))\n",
    "print()\n",
    "print('Processing test')\n",
    "snips_test = make_snips_df(glob('../data/snips/2017-06-custom-intent-engines/*/validate*.json'))"
   ]
  },
  {
   "cell_type": "code",
   "execution_count": 5,
   "metadata": {},
   "outputs": [
    {
     "name": "stdout",
     "output_type": "stream",
     "text": [
      "Train dataset len:  13084\n",
      "Valid dataset len:  700\n",
      "Test  dataset len:  700\n"
     ]
    }
   ],
   "source": [
    "permutation = np.random.permutation(len(snips_trainval))\n",
    "train_subset_ids = permutation[700:]\n",
    "valid_subset_ids = permutation[:700]\n",
    "\n",
    "snips_train = snips_trainval.iloc[train_subset_ids]\n",
    "snips_valid = snips_trainval.iloc[valid_subset_ids]\n",
    "\n",
    "print('Train dataset len: ', len(snips_train))\n",
    "print('Valid dataset len: ', len(snips_valid))\n",
    "print('Test  dataset len: ', len(snips_test))"
   ]
  },
  {
   "cell_type": "code",
   "execution_count": 11,
   "metadata": {},
   "outputs": [],
   "source": [
    "import os\n",
    "from os.path import join as path_join\n",
    "\n",
    "snips_path = path_join('snips', 'top_format')\n",
    "os.makedirs(snips_path)\n",
    "\n",
    "snips_train.to_csv(os.path.join(snips_path, 'train.tsv'), sep='\\t', index=False, header=False)\n",
    "snips_valid.to_csv(os.path.join(snips_path, 'eval.tsv'), sep='\\t', index=False, header=False)\n",
    "snips_test.to_csv(os.path.join(snips_path, 'test.tsv'), sep='\\t', index=False, header=False)"
   ]
  },
  {
   "cell_type": "code",
   "execution_count": null,
   "metadata": {},
   "outputs": [],
   "source": []
  }
 ],
 "metadata": {
  "kernelspec": {
   "display_name": "Python 3",
   "language": "python",
   "name": "python3"
  },
  "language_info": {
   "codemirror_mode": {
    "name": "ipython",
    "version": 3
   },
   "file_extension": ".py",
   "mimetype": "text/x-python",
   "name": "python",
   "nbconvert_exporter": "python",
   "pygments_lexer": "ipython3",
   "version": "3.7.6"
  }
 },
 "nbformat": 4,
 "nbformat_minor": 4
}
