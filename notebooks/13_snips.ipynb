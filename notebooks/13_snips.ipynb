{
 "cells": [
  {
   "cell_type": "code",
   "execution_count": 2,
   "metadata": {},
   "outputs": [],
   "source": [
    "from glob import glob\n",
    "import json\n",
    "\n",
    "import numpy as np\n",
    "import pandas as pd\n",
    "pd.set_option('max_colwidth', 200)"
   ]
  },
  {
   "cell_type": "code",
   "execution_count": 3,
   "metadata": {},
   "outputs": [],
   "source": [
    "snips_files_train = glob('../data/snips/2017-06-custom-intent-engines/*/train*full.json')\n",
    "snips_files_test = glob('../data/snips/2017-06-custom-intent-engines/*/validate*.json')"
   ]
  },
  {
   "cell_type": "code",
   "execution_count": 4,
   "metadata": {},
   "outputs": [
    {
     "name": "stdout",
     "output_type": "stream",
     "text": [
      "Processing train\n",
      "Intent: PlayMusic, n examples: 2000\n",
      "Intent: RateBook, n examples: 1956\n",
      "Intent: SearchCreativeWork, n examples: 1954\n",
      "Intent: GetWeather, n examples: 2000\n",
      "Intent: BookRestaurant, n examples: 1973\n",
      "Intent: AddToPlaylist, n examples: 1942\n",
      "Intent: SearchScreeningEvent, n examples: 1959\n",
      "\n",
      "Processing test\n",
      "Intent: PlayMusic, n examples: 100\n",
      "Intent: RateBook, n examples: 100\n",
      "Intent: SearchCreativeWork, n examples: 100\n",
      "Intent: GetWeather, n examples: 100\n",
      "Intent: BookRestaurant, n examples: 100\n",
      "Intent: AddToPlaylist, n examples: 100\n",
      "Intent: SearchScreeningEvent, n examples: 100\n"
     ]
    }
   ],
   "source": [
    "def snips2top(snips_example, intent):\n",
    "    \"\"\"Convert Snips format to TOP format\n",
    "    \n",
    "    Args:\n",
    "        snips_example: dict, one example following snips example format\n",
    "        intent: str\n",
    "\n",
    "    Returns:\n",
    "        query_text, top_format_schema\n",
    "    \"\"\"\n",
    "    query_text = ''\n",
    "    top_format_str = f'[IN:{intent.upper()}'\n",
    "\n",
    "    for text_chunk in snips_example:\n",
    "        text = text_chunk[\"text\"].strip(' ')\n",
    "\n",
    "        if \"entity\" in text_chunk:\n",
    "            entity_name = text_chunk[\"entity\"].upper()\n",
    "            top_format_str += f\" [SL:{entity_name} {text} ]\"\n",
    "\n",
    "        else:\n",
    "            top_format_str += ' ' + text\n",
    "\n",
    "        query_text += ' ' + text\n",
    "\n",
    "    query_text = query_text.strip(' ')\n",
    "    top_format_str += \" ]\"\n",
    "\n",
    "    return query_text, top_format_str\n",
    "\n",
    "\n",
    "ex1 = [\n",
    "    {'text': 'What will the weather be '},\n",
    "    {'text': 'this year', 'entity': 'timeRange'},\n",
    "    {'text': ' in '},\n",
    "    {'text': 'Horseshoe Lake State Fish and Wildlife Area',\n",
    "     'entity': 'geographic_poi'},\n",
    "    {'text': '?'}\n",
    "]\n",
    "intent1 = 'GetWeather'\n",
    "expected_out = (\"What will the weather be this year in Horseshoe Lake State Fish and Wildlife Area ?\", \"[IN:GETWEATHER What will the weather be [SL:TIMERANGE this year ] in [SL:GEOGRAPHIC_POI Horseshoe Lake State Fish and Wildlife Area ] ? ]\")\n",
    "out = snips2top(ex1, intent1)\n",
    "assert out == expected_out, out\n",
    "\n",
    "\n",
    "def make_snips_df(snips_files):\n",
    "    snips_data = []\n",
    "    for train_file in snips_files:\n",
    "        with open(train_file, encoding='latin-1') as f:\n",
    "            data = json.load(f)\n",
    "\n",
    "        assert len(data.keys()) == 1, data.keys()\n",
    "        intent = list(data.keys())[0]\n",
    "        print(f'Intent: {intent}, n examples: {len(data[intent])}')\n",
    "\n",
    "        for example in data[intent]:\n",
    "            assert len(example.keys()) == 1\n",
    "            text, schema = snips2top(example['data'], intent)\n",
    "            snips_data.append([text, text, schema])\n",
    "    \n",
    "    snips_df = pd.DataFrame(snips_data, columns=['text', 'tokens', 'schema'])\n",
    "    return snips_df\n",
    "\n",
    "print('Processing train')\n",
    "snips_trainval = make_snips_df(glob('../data/snips/2017-06-custom-intent-engines/*/train*full.json'))\n",
    "print()\n",
    "print('Processing test')\n",
    "snips_test = make_snips_df(glob('../data/snips/2017-06-custom-intent-engines/*/validate*.json'))"
   ]
  },
  {
   "cell_type": "code",
   "execution_count": 5,
   "metadata": {},
   "outputs": [
    {
     "name": "stdout",
     "output_type": "stream",
     "text": [
      "Train dataset len:  13084\n",
      "Valid dataset len:  700\n",
      "Test  dataset len:  700\n"
     ]
    }
   ],
   "source": [
    "permutation = np.random.permutation(len(snips_trainval))\n",
    "train_subset_ids = permutation[700:]\n",
    "valid_subset_ids = permutation[:700]\n",
    "\n",
    "snips_train = snips_trainval.iloc[train_subset_ids]\n",
    "snips_valid = snips_trainval.iloc[valid_subset_ids]\n",
    "\n",
    "print('Train dataset len: ', len(snips_train))\n",
    "print('Valid dataset len: ', len(snips_valid))\n",
    "print('Test  dataset len: ', len(snips_test))"
   ]
  },
  {
   "cell_type": "code",
   "execution_count": 11,
   "metadata": {},
   "outputs": [],
   "source": [
    "# import os\n",
    "# from os.path import join as path_join\n",
    "\n",
    "# snips_path = path_join('snips', 'top_format')\n",
    "# os.makedirs(snips_path)\n",
    "\n",
    "# snips_train.to_csv(os.path.join(snips_path, 'train.tsv'), sep='\\t', index=False, header=False)\n",
    "# snips_valid.to_csv(os.path.join(snips_path, 'eval.tsv'), sep='\\t', index=False, header=False)\n",
    "# snips_test.to_csv(os.path.join(snips_path, 'test.tsv'), sep='\\t', index=False, header=False)"
   ]
  },
  {
   "cell_type": "markdown",
   "metadata": {},
   "source": [
    "# More vis"
   ]
  },
  {
   "cell_type": "code",
   "execution_count": 6,
   "metadata": {},
   "outputs": [],
   "source": [
    "def tokenize(text):\n",
    "    tokenized = \"\"\n",
    "    for char in text:\n",
    "        if char in [\"[\", \"]\"]:\n",
    "            char = \" \" + char + \" \"\n",
    "        if char in [\":\"]:\n",
    "            char = char + \" \"\n",
    "        tokenized += char\n",
    "    tokens = tokenized.strip(\" \").split(\" \")\n",
    "    tokens = [t for t in tokens if t != \"\"]\n",
    "    return tokens\n",
    "\n",
    "def top_schema_get_vocab(text):\n",
    "    text = text.replace('[', '')\n",
    "    text = text.replace(']', '')\n",
    "\n",
    "    schema_tokens = {'[', ']', 'IN:', 'SL:'}\n",
    "\n",
    "    for token in text.split(' '):\n",
    "        if token[:3] in ['IN:', 'SL:']:\n",
    "            schema_tokens.add(token[3:])\n",
    "    return schema_tokens\n"
   ]
  },
  {
   "cell_type": "code",
   "execution_count": 7,
   "metadata": {},
   "outputs": [],
   "source": [
    "vocab = set()\n",
    "\n",
    "for i, line in snips_train.iterrows():\n",
    "    _vocab = top_schema_get_vocab(line.schema)\n",
    "    vocab = vocab.union(_vocab)"
   ]
  },
  {
   "cell_type": "code",
   "execution_count": 12,
   "metadata": {},
   "outputs": [
    {
     "data": {
      "application/vnd.jupyter.widget-view+json": {
       "model_id": "a07839b584c24d54b0b0a6a3a980f859",
       "version_major": 2,
       "version_minor": 0
      },
      "text/plain": [
       "HBox(children=(FloatProgress(value=0.0, max=13084.0), HTML(value='')))"
      ]
     },
     "metadata": {},
     "output_type": "display_data"
    },
    {
     "name": "stdout",
     "output_type": "stream",
     "text": [
      "\n"
     ]
    }
   ],
   "source": [
    "from collections import Counter\n",
    "from tqdm.auto import tqdm\n",
    "\n",
    "# to distinguish between slots and intents\n",
    "extended_vocab = {'SL:' + token for token in vocab}.union({'IN:' + token for token in vocab})\n",
    "\n",
    "frequencies = Counter()\n",
    "\n",
    "for schema_str in tqdm(snips_train.schema, total=len(snips_train.schema)):\n",
    "    for token in extended_vocab:\n",
    "        if token in schema_str:\n",
    "            frequencies[token] += 1\n",
    "\n",
    "vocab = set(frequencies.keys())"
   ]
  },
  {
   "cell_type": "code",
   "execution_count": 15,
   "metadata": {},
   "outputs": [
    {
     "data": {
      "text/plain": [
       "<BarContainer object of 46 artists>"
      ]
     },
     "execution_count": 15,
     "metadata": {},
     "output_type": "execute_result"
    },
    {
     "data": {
      "image/png": "[encoded data removed]",
      "text/plain": [
       "<Figure size 2160x720 with 1 Axes>"
      ]
     },
     "metadata": {
      "needs_background": "light"
     },
     "output_type": "display_data"
    }
   ],
   "source": [
    "import matplotlib.pyplot as plt\n",
    "\n",
    "plt.figure(figsize=(30, 10))\n",
    "labels, values = zip(*frequencies.most_common())\n",
    "plt.xticks(rotation='vertical')\n",
    "plt.bar(labels, values)"
   ]
  },
  {
   "cell_type": "code",
   "execution_count": 21,
   "metadata": {},
   "outputs": [
    {
     "data": {
      "text/plain": [
       "[('SL:POI', 139),\n",
       " ('SL:GENRE', 139),\n",
       " ('SL:FACILITY', 151),\n",
       " ('SL:ALBUM', 171),\n",
       " ('SL:CUISINE', 200),\n",
       " ('SL:TRACK', 204),\n",
       " ('SL:SERVED_DISH', 255),\n",
       " ('SL:CURRENT_LOCATION', 256),\n",
       " ('SL:GEOGRAPHIC_POI', 278),\n",
       " ('SL:OBJECT_PART_OF_SERIES_TYPE', 284),\n",
       " ('SL:PARTY_SIZE_DESCRIPTION', 307),\n",
       " ('SL:RESTAURANT_NAME', 320),\n",
       " ('SL:CONDITION_DESCRIPTION', 434),\n",
       " ('SL:OBJECT_LOCATION_TYPE', 448),\n",
       " ('SL:CONDITION_TEMPERATURE', 448),\n",
       " ('SL:SORT', 519),\n",
       " ('SL:LOCATION_NAME', 552),\n",
       " ('SL:ENTITY_NAME', 563),\n",
       " ('SL:YEAR', 609),\n",
       " ('SL:MOVIE_TYPE', 661),\n",
       " ('SL:SERVICE', 734),\n",
       " ('SL:MOVIE_NAME', 769),\n",
       " ('SL:COUNTRY', 811),\n",
       " ('SL:OBJECT_SELECT', 927),\n",
       " ('SL:STATE', 955),\n",
       " ('SL:PARTY_SIZE_NUMBER', 976),\n",
       " ('SL:BEST_RATING', 994),\n",
       " ('SL:PLAYLIST_OWNER', 1060),\n",
       " ('SL:RATING_UNIT', 1060),\n",
       " ('SL:SPATIAL_RELATION', 1156),\n",
       " ('SL:RESTAURANT_TYPE', 1279),\n",
       " ('SL:CITY', 1299),\n",
       " ('SL:MUSIC_ITEM', 1591),\n",
       " ('SL:ARTIST', 1801),\n",
       " ('IN:ADDTOPLAYLIST', 1830),\n",
       " ('IN:SEARCHSCREENINGEVENT', 1851),\n",
       " ('IN:RATEBOOK', 1852),\n",
       " ('SL:RATING_VALUE', 1852),\n",
       " ('IN:SEARCHCREATIVEWORK', 1858),\n",
       " ('IN:BOOKRESTAURANT', 1875),\n",
       " ('SL:TIMERANGE', 1880),\n",
       " ('IN:GETWEATHER', 1898),\n",
       " ('IN:PLAYMUSIC', 1920),\n",
       " ('SL:PLAYLIST', 1976),\n",
       " ('SL:OBJECT_NAME', 2786),\n",
       " ('SL:OBJECT_TYPE', 3005)]"
      ]
     },
     "execution_count": 21,
     "metadata": {},
     "output_type": "execute_result"
    }
   ],
   "source": [
    "sorted(frequencies.items(), key=lambda x: x[1])"
   ]
  },
  {
   "cell_type": "code",
   "execution_count": 24,
   "metadata": {},
   "outputs": [
    {
     "data": {
      "text/plain": [
       "229.5"
      ]
     },
     "execution_count": 24,
     "metadata": {},
     "output_type": "execute_result"
    }
   ],
   "source": [
    "255 * 0.90"
   ]
  },
  {
   "cell_type": "code",
   "execution_count": 25,
   "metadata": {},
   "outputs": [
    {
     "data": {
      "text/plain": [
       "25.5"
      ]
     },
     "execution_count": 25,
     "metadata": {},
     "output_type": "execute_result"
    }
   ],
   "source": [
    "255 * 0.1"
   ]
  },
  {
   "cell_type": "code",
   "execution_count": null,
   "metadata": {},
   "outputs": [],
   "source": []
  }
 ],
 "metadata": {
  "kernelspec": {
   "display_name": "Python 3",
   "language": "python",
   "name": "python3"
  },
  "language_info": {
   "codemirror_mode": {
    "name": "ipython",
    "version": 3
   },
   "file_extension": ".py",
   "mimetype": "text/x-python",
   "name": "python",
   "nbconvert_exporter": "python",
   "pygments_lexer": "ipython3",
   "version": "3.8.5"
  }
 },
 "nbformat": 4,
 "nbformat_minor": 4
}
