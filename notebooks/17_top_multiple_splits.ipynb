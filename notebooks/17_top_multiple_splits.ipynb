{
 "cells": [
  {
   "cell_type": "markdown",
   "metadata": {},
   "source": [
    "# Split TOP into multiple class-incremental chunks"
   ]
  },
  {
   "cell_type": "code",
   "execution_count": 1,
   "metadata": {},
   "outputs": [],
   "source": [
    "import os\n",
    "from collections import Counter\n",
    "from functools import reduce\n",
    "\n",
    "import pandas as pd\n",
    "from tqdm.auto import tqdm\n",
    "\n",
    "import matplotlib.pyplot as plt\n",
    "\n",
    "from new_semantic_parsing import utils"
   ]
  },
  {
   "cell_type": "code",
   "execution_count": 2,
   "metadata": {},
   "outputs": [
    {
     "data": {
      "text/html": [
       "<div>\n",
       "<style scoped>\n",
       "    .dataframe tbody tr th:only-of-type {\n",
       "        vertical-align: middle;\n",
       "    }\n",
       "\n",
       "    .dataframe tbody tr th {\n",
       "        vertical-align: top;\n",
       "    }\n",
       "\n",
       "    .dataframe thead th {\n",
       "        text-align: right;\n",
       "    }\n",
       "</style>\n",
       "<table border=\"1\" class=\"dataframe\">\n",
       "  <thead>\n",
       "    <tr style=\"text-align: right;\">\n",
       "      <th></th>\n",
       "      <th>text</th>\n",
       "      <th>tokens</th>\n",
       "      <th>schema</th>\n",
       "    </tr>\n",
       "  </thead>\n",
       "  <tbody>\n",
       "    <tr>\n",
       "      <th>0</th>\n",
       "      <td>How long will it take to drive from Chicago to...</td>\n",
       "      <td>How long will it take to drive from Chicago to...</td>\n",
       "      <td>[IN:GET_ESTIMATED_DURATION How long will it ta...</td>\n",
       "    </tr>\n",
       "    <tr>\n",
       "      <th>1</th>\n",
       "      <td>Will it take shorter to get to the White House...</td>\n",
       "      <td>Will it take shorter to get to the White House...</td>\n",
       "      <td>[IN:UNSUPPORTED_NAVIGATION Will it take shorte...</td>\n",
       "    </tr>\n",
       "    <tr>\n",
       "      <th>2</th>\n",
       "      <td>will I make it to the beach by noon if I leave...</td>\n",
       "      <td>will I make it to the beach by noon if I leave...</td>\n",
       "      <td>[IN:GET_ESTIMATED_ARRIVAL will I make it to [S...</td>\n",
       "    </tr>\n",
       "    <tr>\n",
       "      <th>3</th>\n",
       "      <td>When should I leave my house to get to the Ham...</td>\n",
       "      <td>When should I leave my house to get to the Ham...</td>\n",
       "      <td>[IN:GET_ESTIMATED_DEPARTURE When should I leav...</td>\n",
       "    </tr>\n",
       "    <tr>\n",
       "      <th>4</th>\n",
       "      <td>I need to know if there's a lot of traffic on ...</td>\n",
       "      <td>I need to know if there 's a lot of traffic on...</td>\n",
       "      <td>[IN:GET_INFO_TRAFFIC I need to know if there '...</td>\n",
       "    </tr>\n",
       "    <tr>\n",
       "      <th>...</th>\n",
       "      <td>...</td>\n",
       "      <td>...</td>\n",
       "      <td>...</td>\n",
       "    </tr>\n",
       "    <tr>\n",
       "      <th>31274</th>\n",
       "      <td>current traffic at border</td>\n",
       "      <td>current traffic at border</td>\n",
       "      <td>[IN:GET_INFO_TRAFFIC current traffic at [SL:LO...</td>\n",
       "    </tr>\n",
       "    <tr>\n",
       "      <th>31275</th>\n",
       "      <td>Fastest route to wax museum in San Francisco</td>\n",
       "      <td>Fastest route to wax museum in San Francisco</td>\n",
       "      <td>[IN:GET_DIRECTIONS Fastest route to [SL:DESTIN...</td>\n",
       "    </tr>\n",
       "    <tr>\n",
       "      <th>31276</th>\n",
       "      <td>any christmas shows</td>\n",
       "      <td>any christmas shows</td>\n",
       "      <td>[IN:GET_EVENT any [SL:DATE_TIME christmas ] [S...</td>\n",
       "    </tr>\n",
       "    <tr>\n",
       "      <th>31277</th>\n",
       "      <td>Road conditions updates</td>\n",
       "      <td>Road conditions updates</td>\n",
       "      <td>[IN:GET_INFO_ROAD_CONDITION Road conditions up...</td>\n",
       "    </tr>\n",
       "    <tr>\n",
       "      <th>31278</th>\n",
       "      <td>What's the traffic from Flint to Detroit</td>\n",
       "      <td>What 's the traffic from Flint to Detroit</td>\n",
       "      <td>[IN:GET_INFO_TRAFFIC What 's the traffic from ...</td>\n",
       "    </tr>\n",
       "  </tbody>\n",
       "</table>\n",
       "<p>31279 rows × 3 columns</p>\n",
       "</div>"
      ],
      "text/plain": [
       "                                                    text  \\\n",
       "0      How long will it take to drive from Chicago to...   \n",
       "1      Will it take shorter to get to the White House...   \n",
       "2      will I make it to the beach by noon if I leave...   \n",
       "3      When should I leave my house to get to the Ham...   \n",
       "4      I need to know if there's a lot of traffic on ...   \n",
       "...                                                  ...   \n",
       "31274                          current traffic at border   \n",
       "31275       Fastest route to wax museum in San Francisco   \n",
       "31276                                any christmas shows   \n",
       "31277                            Road conditions updates   \n",
       "31278           What's the traffic from Flint to Detroit   \n",
       "\n",
       "                                                  tokens  \\\n",
       "0      How long will it take to drive from Chicago to...   \n",
       "1      Will it take shorter to get to the White House...   \n",
       "2      will I make it to the beach by noon if I leave...   \n",
       "3      When should I leave my house to get to the Ham...   \n",
       "4      I need to know if there 's a lot of traffic on...   \n",
       "...                                                  ...   \n",
       "31274                          current traffic at border   \n",
       "31275       Fastest route to wax museum in San Francisco   \n",
       "31276                                any christmas shows   \n",
       "31277                            Road conditions updates   \n",
       "31278          What 's the traffic from Flint to Detroit   \n",
       "\n",
       "                                                  schema  \n",
       "0      [IN:GET_ESTIMATED_DURATION How long will it ta...  \n",
       "1      [IN:UNSUPPORTED_NAVIGATION Will it take shorte...  \n",
       "2      [IN:GET_ESTIMATED_ARRIVAL will I make it to [S...  \n",
       "3      [IN:GET_ESTIMATED_DEPARTURE When should I leav...  \n",
       "4      [IN:GET_INFO_TRAFFIC I need to know if there '...  \n",
       "...                                                  ...  \n",
       "31274  [IN:GET_INFO_TRAFFIC current traffic at [SL:LO...  \n",
       "31275  [IN:GET_DIRECTIONS Fastest route to [SL:DESTIN...  \n",
       "31276  [IN:GET_EVENT any [SL:DATE_TIME christmas ] [S...  \n",
       "31277  [IN:GET_INFO_ROAD_CONDITION Road conditions up...  \n",
       "31278  [IN:GET_INFO_TRAFFIC What 's the traffic from ...  \n",
       "\n",
       "[31279 rows x 3 columns]"
      ]
     },
     "execution_count": 2,
     "metadata": {},
     "output_type": "execute_result"
    }
   ],
   "source": [
    "data = pd.read_table('../data/top-dataset-semantic-parsing/train.tsv', names=['text', 'tokens', 'schema'])\n",
    "validation_data = pd.read_table('../data/top-dataset-semantic-parsing/eval.tsv', names=['text', 'tokens', 'schema'])\n",
    "test_data = pd.read_table('../data/top-dataset-semantic-parsing/test.tsv', names=['text', 'tokens', 'schema'])\n",
    "\n",
    "data"
   ]
  },
  {
   "cell_type": "code",
   "execution_count": 3,
   "metadata": {},
   "outputs": [],
   "source": [
    "all_schema_tokens = {'IN:COMBINE',\n",
    " 'IN:GET_CONTACT',\n",
    " 'IN:GET_DIRECTIONS',\n",
    " 'IN:GET_DISTANCE',\n",
    " 'IN:GET_ESTIMATED_ARRIVAL',\n",
    " 'IN:GET_ESTIMATED_DEPARTURE',\n",
    " 'IN:GET_ESTIMATED_DURATION',\n",
    " 'IN:GET_EVENT',\n",
    " 'IN:GET_EVENT_ATTENDEE',\n",
    " 'IN:GET_EVENT_ATTENDEE_AMOUNT',\n",
    " 'IN:GET_EVENT_ORGANIZER',\n",
    " 'IN:GET_INFO_ROAD_CONDITION',\n",
    " 'IN:GET_INFO_ROUTE',\n",
    " 'IN:GET_INFO_TRAFFIC',\n",
    " 'IN:GET_LOCATION',\n",
    " 'IN:GET_LOCATION_HOME',\n",
    " 'IN:GET_LOCATION_HOMETOWN',\n",
    " 'IN:GET_LOCATION_SCHOOL',\n",
    " 'IN:GET_LOCATION_WORK',\n",
    " 'IN:NEGATION',\n",
    " 'IN:UNINTELLIGIBLE',\n",
    " 'IN:UNSUPPORTED',\n",
    " 'IN:UNSUPPORTED_EVENT',\n",
    " 'IN:UNSUPPORTED_NAVIGATION',\n",
    " 'IN:UPDATE_DIRECTIONS',\n",
    " 'SL:AMOUNT',\n",
    " 'SL:ATTENDEE_EVENT',\n",
    " 'SL:ATTRIBUTE_EVENT',\n",
    " 'SL:CATEGORY_EVENT',\n",
    " 'SL:CATEGORY_LOCATION',\n",
    " 'SL:COMBINE',\n",
    " 'SL:CONTACT',\n",
    " 'SL:CONTACT_RELATED',\n",
    " 'SL:DATE_TIME',\n",
    " 'SL:DATE_TIME_ARRIVAL',\n",
    " 'SL:DATE_TIME_DEPARTURE',\n",
    " 'SL:DESTINATION',\n",
    " 'SL:GROUP',\n",
    " 'SL:LOCATION',\n",
    " 'SL:LOCATION_CURRENT',\n",
    " 'SL:LOCATION_MODIFIER',\n",
    " 'SL:LOCATION_USER',\n",
    " 'SL:LOCATION_WORK',\n",
    " 'SL:METHOD_TRAVEL',\n",
    " 'SL:NAME_EVENT',\n",
    " 'SL:OBSTRUCTION',\n",
    " 'SL:OBSTRUCTION_AVOID',\n",
    " 'SL:ORDINAL',\n",
    " 'SL:ORGANIZER_EVENT',\n",
    " 'SL:PATH',\n",
    " 'SL:PATH_AVOID',\n",
    " 'SL:POINT_ON_MAP',\n",
    " 'SL:ROAD_CONDITION',\n",
    " 'SL:ROAD_CONDITION_AVOID',\n",
    " 'SL:SEARCH_RADIUS',\n",
    " 'SL:SOURCE',\n",
    " 'SL:TYPE_RELATION',\n",
    " 'SL:UNIT_DISTANCE',\n",
    " 'SL:WAYPOINT',\n",
    " 'SL:WAYPOINT_ADDED',\n",
    " 'SL:WAYPOINT_AVOID',\n",
    "}"
   ]
  },
  {
   "cell_type": "code",
   "execution_count": 4,
   "metadata": {},
   "outputs": [
    {
     "data": {
      "application/vnd.jupyter.widget-view+json": {
       "model_id": "ba6170ed5a3c4dea92496d935c0fb9a8",
       "version_major": 2,
       "version_minor": 0
      },
      "text/plain": [
       "HBox(children=(HTML(value=''), FloatProgress(value=0.0, max=31279.0), HTML(value='')))"
      ]
     },
     "metadata": {},
     "output_type": "display_data"
    },
    {
     "name": "stdout",
     "output_type": "stream",
     "text": [
      "\n"
     ]
    }
   ],
   "source": [
    "frequencies = Counter()\n",
    "\n",
    "for schema_str in tqdm(data.schema):\n",
    "    for token in all_schema_tokens:\n",
    "        if token in schema_str:\n",
    "            frequencies[token] += 1"
   ]
  },
  {
   "cell_type": "code",
   "execution_count": 5,
   "metadata": {},
   "outputs": [],
   "source": [
    "all_schema_tokens_sorted = sorted(frequencies.items(), key=lambda x: x[1])"
   ]
  },
  {
   "cell_type": "code",
   "execution_count": 6,
   "metadata": {},
   "outputs": [
    {
     "data": {
      "text/plain": [
       "[('IN:NEGATION', 1),\n",
       " ('SL:GROUP', 1),\n",
       " ('SL:AMOUNT', 2),\n",
       " ('SL:LOCATION_WORK', 4),\n",
       " ('IN:UNINTELLIGIBLE', 4),\n",
       " ('IN:GET_EVENT_ORGANIZER', 4),\n",
       " ('IN:GET_EVENT_ATTENDEE_AMOUNT', 4),\n",
       " ('IN:GET_LOCATION_HOMETOWN', 4),\n",
       " ('SL:WAYPOINT_ADDED', 4),\n",
       " ('IN:GET_EVENT_ATTENDEE', 8),\n",
       " ('SL:WAYPOINT_AVOID', 18),\n",
       " ('SL:ROAD_CONDITION_AVOID', 22),\n",
       " ('SL:LOCATION_CURRENT', 34),\n",
       " ('IN:GET_INFO_ROUTE', 46),\n",
       " ('IN:GET_CONTACT', 53),\n",
       " ('IN:COMBINE', 61),\n",
       " ('SL:COMBINE', 61),\n",
       " ('SL:ATTENDEE_EVENT', 109),\n",
       " ('SL:WAYPOINT', 122),\n",
       " ('IN:GET_LOCATION_SCHOOL', 180),\n",
       " ('SL:ORDINAL', 219),\n",
       " ('IN:UPDATE_DIRECTIONS', 247),\n",
       " ('IN:UNSUPPORTED_EVENT', 300),\n",
       " ('SL:ORGANIZER_EVENT', 316),\n",
       " ('SL:PATH_AVOID', 320),\n",
       " ('SL:CONTACT_RELATED', 375),\n",
       " ('IN:GET_INFO_ROAD_CONDITION', 377),\n",
       " ('SL:ROAD_CONDITION', 489),\n",
       " ('SL:OBSTRUCTION_AVOID', 556),\n",
       " ('SL:TYPE_RELATION', 558),\n",
       " ('SL:UNIT_DISTANCE', 559),\n",
       " ('SL:OBSTRUCTION', 577),\n",
       " ('IN:GET_ESTIMATED_DEPARTURE', 741),\n",
       " ('SL:ATTRIBUTE_EVENT', 871),\n",
       " ('SL:NAME_EVENT', 1147),\n",
       " ('IN:GET_LOCATION_WORK', 1269),\n",
       " ('SL:DATE_TIME_ARRIVAL', 1279),\n",
       " ('SL:LOCATION_MODIFIER', 1285),\n",
       " ('SL:SEARCH_RADIUS', 1308),\n",
       " ('IN:GET_ESTIMATED_ARRIVAL', 1508),\n",
       " ('SL:PATH', 1508),\n",
       " ('IN:UNSUPPORTED_NAVIGATION', 1514),\n",
       " ('SL:LOCATION_USER', 1745),\n",
       " ('IN:GET_DISTANCE', 1750),\n",
       " ('SL:CONTACT', 1752),\n",
       " ('IN:GET_DIRECTIONS', 1892),\n",
       " ('SL:POINT_ON_MAP', 2191),\n",
       " ('SL:DATE_TIME_DEPARTURE', 2238),\n",
       " ('SL:CATEGORY_LOCATION', 2285),\n",
       " ('SL:METHOD_TRAVEL', 2605),\n",
       " ('IN:UNSUPPORTED', 2865),\n",
       " ('IN:GET_LOCATION_HOME', 3215),\n",
       " ('IN:GET_ESTIMATED_DURATION', 4182),\n",
       " ('SL:SOURCE', 5967),\n",
       " ('SL:CATEGORY_EVENT', 6652),\n",
       " ('IN:GET_INFO_TRAFFIC', 8795),\n",
       " ('IN:GET_LOCATION', 10111),\n",
       " ('IN:GET_EVENT', 10317),\n",
       " ('SL:LOCATION', 12153),\n",
       " ('SL:DESTINATION', 12442),\n",
       " ('SL:DATE_TIME', 13214)]"
      ]
     },
     "execution_count": 6,
     "metadata": {},
     "output_type": "execute_result"
    }
   ],
   "source": [
    "all_schema_tokens_sorted"
   ]
  },
  {
   "cell_type": "code",
   "execution_count": 7,
   "metadata": {},
   "outputs": [
    {
     "name": "stdout",
     "output_type": "stream",
     "text": [
      "Token SL:COMBINE does not have examples\n",
      "Token SL:OBSTRUCTION does not have examples\n",
      "Token SL:LOCATION does not have examples\n",
      "Token SL:DESTINATION does not have examples\n",
      "Token SL:DATE_TIME does not have examples\n"
     ]
    }
   ],
   "source": [
    "tiers = []\n",
    "\n",
    "for token, _ in all_schema_tokens_sorted:\n",
    "    tier = data[data.schema.str.contains(token)]\n",
    "\n",
    "    for previous_tier in tiers:\n",
    "        tier = tier.loc[tier.index.difference(previous_tier.index)]\n",
    "    \n",
    "    if len(tier) == 0:\n",
    "        print(f\"Token {token} does not have examples\")\n",
    "        continue\n",
    "    \n",
    "    tiers.append(tier)\n",
    "\n",
    "if sum(len(t) for t in tiers) != len(data):\n",
    "    print(\"Error happend\")"
   ]
  },
  {
   "cell_type": "code",
   "execution_count": 8,
   "metadata": {},
   "outputs": [
    {
     "data": {
      "text/plain": [
       "56"
      ]
     },
     "execution_count": 8,
     "metadata": {},
     "output_type": "execute_result"
    }
   ],
   "source": [
    "len(tiers)"
   ]
  },
  {
   "cell_type": "code",
   "execution_count": 9,
   "metadata": {},
   "outputs": [
    {
     "data": {
      "text/plain": [
       "{'CATEGORY_EVENT', 'GET_EVENT', 'IN:', 'LOCATION', 'NEGATION', 'SL:', '[', ']'}"
      ]
     },
     "execution_count": 9,
     "metadata": {},
     "output_type": "execute_result"
    }
   ],
   "source": [
    "reduce(set.union, map(utils.get_vocab_top_schema, tiers[0].schema))"
   ]
  },
  {
   "cell_type": "code",
   "execution_count": 10,
   "metadata": {},
   "outputs": [
    {
     "data": {
      "text/plain": [
       "{'CATEGORY_EVENT',\n",
       " 'DATE_TIME',\n",
       " 'DESTINATION',\n",
       " 'GET_CONTACT',\n",
       " 'GET_DIRECTIONS',\n",
       " 'GET_EVENT',\n",
       " 'GROUP',\n",
       " 'IN:',\n",
       " 'ORGANIZER_EVENT',\n",
       " 'SL:',\n",
       " '[',\n",
       " ']'}"
      ]
     },
     "execution_count": 10,
     "metadata": {},
     "output_type": "execute_result"
    }
   ],
   "source": [
    "reduce(set.union, map(utils.get_vocab_top_schema, tiers[1].schema))"
   ]
  },
  {
   "cell_type": "code",
   "execution_count": 11,
   "metadata": {},
   "outputs": [
    {
     "data": {
      "text/plain": [
       "{'AMOUNT',\n",
       " 'CATEGORY_EVENT',\n",
       " 'CONTACT',\n",
       " 'DESTINATION',\n",
       " 'GET_DIRECTIONS',\n",
       " 'GET_EVENT',\n",
       " 'GET_LOCATION',\n",
       " 'GET_LOCATION_HOME',\n",
       " 'IN:',\n",
       " 'ORDINAL',\n",
       " 'POINT_ON_MAP',\n",
       " 'SL:',\n",
       " 'SOURCE',\n",
       " '[',\n",
       " ']'}"
      ]
     },
     "execution_count": 11,
     "metadata": {},
     "output_type": "execute_result"
    }
   ],
   "source": [
    "reduce(set.union, map(utils.get_vocab_top_schema, tiers[2].schema))"
   ]
  },
  {
   "cell_type": "code",
   "execution_count": 12,
   "metadata": {},
   "outputs": [
    {
     "data": {
      "text/plain": [
       "{'DATE_TIME',\n",
       " 'DESTINATION',\n",
       " 'GET_INFO_TRAFFIC',\n",
       " 'GET_LOCATION',\n",
       " 'IN:',\n",
       " 'LOCATION',\n",
       " 'SL:',\n",
       " '[',\n",
       " ']'}"
      ]
     },
     "execution_count": 12,
     "metadata": {},
     "output_type": "execute_result"
    }
   ],
   "source": [
    "reduce(set.union, map(utils.get_vocab_top_schema, tiers[-3].schema))"
   ]
  },
  {
   "cell_type": "code",
   "execution_count": 13,
   "metadata": {},
   "outputs": [
    {
     "data": {
      "text/plain": [
       "{'GET_LOCATION', 'IN:', 'LOCATION', 'SL:', '[', ']'}"
      ]
     },
     "execution_count": 13,
     "metadata": {},
     "output_type": "execute_result"
    }
   ],
   "source": [
    "reduce(set.union, map(utils.get_vocab_top_schema, tiers[-2].schema))"
   ]
  },
  {
   "cell_type": "code",
   "execution_count": 14,
   "metadata": {},
   "outputs": [
    {
     "data": {
      "text/plain": [
       "{'DATE_TIME', 'GET_EVENT', 'IN:', 'LOCATION', 'SL:', '[', ']'}"
      ]
     },
     "execution_count": 14,
     "metadata": {},
     "output_type": "execute_result"
    }
   ],
   "source": [
    "reduce(set.union, map(utils.get_vocab_top_schema, tiers[-1].schema))"
   ]
  },
  {
   "cell_type": "code",
   "execution_count": 15,
   "metadata": {},
   "outputs": [
    {
     "name": "stdout",
     "output_type": "stream",
     "text": [
      "0 0\n",
      "1 0\n",
      "2 0\n",
      "3 0\n",
      "4 0\n",
      "5 2\n",
      "6 0\n",
      "7 0\n",
      "8 0\n",
      "9 1\n",
      "10 0\n",
      "11 0\n",
      "12 12\n",
      "13 0\n",
      "14 44\n",
      "15 0\n",
      "16 1\n",
      "17 7\n",
      "18 16\n",
      "19 0\n",
      "20 1\n",
      "21 0\n",
      "22 1\n",
      "23 9\n",
      "24 281\n",
      "25 0\n",
      "26 0\n",
      "27 0\n",
      "28 0\n",
      "29 0\n",
      "30 0\n",
      "31 0\n",
      "32 0\n",
      "33 0\n",
      "34 0\n",
      "35 0\n",
      "36 0\n",
      "37 0\n",
      "38 0\n",
      "39 0\n",
      "40 0\n",
      "41 0\n",
      "42 0\n",
      "43 0\n",
      "44 0\n",
      "45 0\n",
      "46 0\n",
      "47 0\n",
      "48 0\n",
      "49 0\n",
      "50 0\n",
      "51 0\n",
      "52 0\n",
      "53 0\n",
      "54 0\n",
      "55 0\n"
     ]
    }
   ],
   "source": [
    "# sanity check that more frequent class splits do not have less frequent classes\n",
    "for i, t in enumerate(tiers):\n",
    "    print(i, sum(t.schema.str.contains(\"SL:CONTACT_RELATED\")))"
   ]
  },
  {
   "cell_type": "code",
   "execution_count": 16,
   "metadata": {},
   "outputs": [
    {
     "data": {
      "image/png": "[encoded data removed]",
      "text/plain": [
       "<Figure size 1296x720 with 1 Axes>"
      ]
     },
     "metadata": {
      "needs_background": "light"
     },
     "output_type": "display_data"
    }
   ],
   "source": [
    "bars = {v[0]: len(t) for v, t in zip(all_schema_tokens_sorted, tiers)}\n",
    "\n",
    "plt.figure(figsize=(18, 10))\n",
    "plt.bar(bars.keys(), bars.values())\n",
    "plt.xticks(rotation=\"vertical\")\n",
    "plt.show()"
   ]
  },
  {
   "cell_type": "code",
   "execution_count": 17,
   "metadata": {},
   "outputs": [
    {
     "name": "stdout",
     "output_type": "stream",
     "text": [
      "SL:LOCATION\n",
      "IN:GET_EVENT\n",
      "SL:DATE_TIME\n"
     ]
    }
   ],
   "source": [
    "for t in all_schema_tokens:\n",
    "    if tiers[-1].schema.str.contains(t).any():\n",
    "        print(t)"
   ]
  },
  {
   "cell_type": "code",
   "execution_count": 18,
   "metadata": {},
   "outputs": [
    {
     "name": "stdout",
     "output_type": "stream",
     "text": [
      "SL:LOCATION\n",
      "IN:GET_LOCATION\n"
     ]
    }
   ],
   "source": [
    "for t in all_schema_tokens:\n",
    "    if tiers[-2].schema.str.contains(t).any():\n",
    "        print(t)"
   ]
  },
  {
   "cell_type": "code",
   "execution_count": 19,
   "metadata": {},
   "outputs": [
    {
     "name": "stdout",
     "output_type": "stream",
     "text": [
      "SL:LOCATION\n",
      "IN:GET_INFO_TRAFFIC\n",
      "SL:DATE_TIME\n",
      "IN:GET_LOCATION\n",
      "SL:DESTINATION\n"
     ]
    }
   ],
   "source": [
    "for t in all_schema_tokens:\n",
    "    if tiers[-3].schema.str.contains(t).any():\n",
    "        print(t)"
   ]
  },
  {
   "cell_type": "markdown",
   "metadata": {},
   "source": [
    "### Combine all tiers with low frequency (less than 10 for TOP dataset) into a single tier"
   ]
  },
  {
   "cell_type": "code",
   "execution_count": 20,
   "metadata": {},
   "outputs": [
    {
     "name": "stdout",
     "output_type": "stream",
     "text": [
      "Merging the tier for token SL:GROUP of size 1 with the previous tier. Combined tier size 2\n",
      "Merging the tier for token SL:AMOUNT of size 2 with the previous tier. Combined tier size 4\n",
      "Merging the tier for token SL:LOCATION_WORK of size 4 with the previous tier. Combined tier size 8\n",
      "Merging the tier for token IN:UNINTELLIGIBLE of size 4 with the previous tier. Combined tier size 12\n",
      "Merging the tier for token IN:GET_EVENT_ORGANIZER of size 4 with the previous tier. Combined tier size 16\n",
      "Merging the tier for token IN:GET_EVENT_ATTENDEE_AMOUNT of size 4 with the previous tier. Combined tier size 20\n",
      "Merging the tier for token IN:GET_LOCATION_HOMETOWN of size 4 with the previous tier. Combined tier size 24\n",
      "Merging the tier for token SL:WAYPOINT_ADDED of size 4 with the previous tier. Combined tier size 28\n",
      "Merging the tier for token IN:GET_EVENT_ATTENDEE of size 4 with the previous tier. Combined tier size 32\n",
      "Token SL:COMBINE does not have examples\n",
      "Token SL:OBSTRUCTION does not have examples\n",
      "Merging the tier for token IN:GET_LOCATION of size 4 with the previous tier. Combined tier size 4990\n",
      "Token SL:LOCATION does not have examples\n",
      "Token SL:DESTINATION does not have examples\n",
      "Token SL:DATE_TIME does not have examples\n"
     ]
    }
   ],
   "source": [
    "tiers_final = []\n",
    "\n",
    "for token, _ in all_schema_tokens_sorted:\n",
    "    tier = data[data.schema.str.contains(token)]\n",
    "\n",
    "    for previous_tier in tiers_final:\n",
    "        tier = tier.loc[tier.index.difference(previous_tier.index)]\n",
    "    \n",
    "    if len(tier) == 0:\n",
    "        print(f\"Token {token} does not have examples\")\n",
    "        continue\n",
    "\n",
    "    if len(tier) < 10 and len(tiers_final) > 0:\n",
    "        tiers_final[-1] = pd.concat([tiers_final[-1], tier])\n",
    "        print(f\"Merging the tier for token {token} of size {len(tier)} with the previous tier. Combined tier size {len(tiers_final[-1])}\")\n",
    "        continue\n",
    "\n",
    "    tiers_final.append(tier)\n",
    "\n",
    "tiers = tiers_final\n",
    "del tiers_final\n",
    "\n",
    "assert sum(len(t) for t in tiers) == len(data)"
   ]
  },
  {
   "cell_type": "code",
   "execution_count": 21,
   "metadata": {},
   "outputs": [
    {
     "data": {
      "text/plain": [
       "46"
      ]
     },
     "execution_count": 21,
     "metadata": {},
     "output_type": "execute_result"
    }
   ],
   "source": [
    "len(tiers)"
   ]
  },
  {
   "cell_type": "code",
   "execution_count": 22,
   "metadata": {},
   "outputs": [
    {
     "name": "stdout",
     "output_type": "stream",
     "text": [
      "[32, 18, 22, 34, 46, 48, 60, 82, 70, 176, 205, 238, 298, 254, 271, 281, 363, 118, 433, 154, 548, 571, 862, 941, 996, 555, 1026, 892, 593, 738, 1511, 575, 1062, 491, 593, 842, 352, 807, 1152, 1046, 358, 476, 443, 3201, 4990, 2455]\n"
     ]
    }
   ],
   "source": [
    "print([len(t) for t in tiers])"
   ]
  },
  {
   "cell_type": "markdown",
   "metadata": {},
   "source": [
    "## Create corresponding validation and test sets and incremental vocabs"
   ]
  },
  {
   "cell_type": "code",
   "execution_count": 29,
   "metadata": {},
   "outputs": [],
   "source": [
    "from copy import copy\n",
    "\n",
    "validation_tiers = []\n",
    "test_tiers = []\n",
    "\n",
    "incremental_vocab = []\n",
    "vocabularies = []\n",
    "\n",
    "tier_schema_vocab_total = set()\n",
    "\n",
    "for tier in tiers[::-1]:\n",
    "    tier_schema_vocab = reduce(set.union, map(utils.get_vocab_top_schema, tier.schema))\n",
    "    tier_schema_vocab_total = tier_schema_vocab_total.union(tier_schema_vocab)\n",
    "\n",
    "    # ensuring that new vocabs are incremental to the old vocabs in order\n",
    "    if len(vocabularies) == 0:\n",
    "        incremental_vocab = list(tier_schema_vocab)\n",
    "    else:\n",
    "        incremental_vocab += [w for w in tier_schema_vocab if w not in incremental_vocab]\n",
    "\n",
    "    vocabularies.append(copy(incremental_vocab))\n",
    "\n",
    "    validation_subset = validation_data[validation_data.schema.apply(lambda x: utils.get_vocab_top_schema(x).issubset(tier_schema_vocab_total))]\n",
    "    test_subset = test_data[test_data.schema.apply(lambda x: utils.get_vocab_top_schema(x).issubset(tier_schema_vocab_total))]\n",
    "    \n",
    "    validation_tiers.append(validation_subset)\n",
    "    test_tiers.append(test_subset)\n",
    "\n",
    "validation_tiers = validation_tiers[::-1]\n",
    "test_tiers = test_tiers[::-1]\n",
    "vocabularies = vocabularies[::-1]"
   ]
  },
  {
   "cell_type": "code",
   "execution_count": 30,
   "metadata": {},
   "outputs": [
    {
     "name": "stdout",
     "output_type": "stream",
     "text": [
      "[4462, 4459, 4456, 4451, 4447, 4444, 4443, 4436, 4430, 4422, 4392, 4366, 4330, 4290, 4265, 4226, 4187, 4144, 4134, 4070, 4044, 3974, 3904, 3782, 3648, 3505, 3424, 3276, 3149, 3078, 2995, 2753, 2678, 2513, 2453, 2342, 2224, 2175, 2048, 1880, 1732, 1683, 1614, 1548, 1066, 344]\n"
     ]
    }
   ],
   "source": [
    "print([len(v) for v in validation_tiers])"
   ]
  },
  {
   "cell_type": "code",
   "execution_count": 31,
   "metadata": {},
   "outputs": [
    {
     "name": "stdout",
     "output_type": "stream",
     "text": [
      "[9042, 9037, 9033, 9029, 9023, 9014, 9007, 8984, 8967, 8938, 8882, 8827, 8760, 8674, 8602, 8530, 8467, 8372, 8343, 8192, 8151, 7993, 7826, 7576, 7312, 7014, 6851, 6573, 6308, 6132, 5909, 5487, 5319, 5037, 4889, 4706, 4472, 4361, 4137, 3771, 3481, 3376, 3225, 3095, 2130, 692]\n"
     ]
    }
   ],
   "source": [
    "print([len(v) for v in test_tiers])"
   ]
  },
  {
   "cell_type": "code",
   "execution_count": 32,
   "metadata": {},
   "outputs": [
    {
     "name": "stdout",
     "output_type": "stream",
     "text": [
      "[64, 54, 53, 52, 51, 50, 49, 47, 46, 45, 44, 43, 42, 41, 40, 39, 38, 37, 36, 35, 34, 33, 32, 31, 30, 29, 28, 27, 26, 25, 24, 23, 22, 21, 20, 19, 18, 17, 16, 15, 14, 13, 12, 11, 10, 7]\n"
     ]
    }
   ],
   "source": [
    "print([len(v) for v in vocabularies])"
   ]
  },
  {
   "cell_type": "markdown",
   "metadata": {},
   "source": [
    "## Flip the order of everything, so we would start with the most frequent tokens and end with the least frequent ones"
   ]
  },
  {
   "cell_type": "code",
   "execution_count": 33,
   "metadata": {},
   "outputs": [],
   "source": [
    "tiers = tiers[::-1]\n",
    "validation_tiers = validation_tiers[::-1]\n",
    "test_tiers = test_tiers[::-1]\n",
    "vocabularies = vocabularies[::-1]"
   ]
  },
  {
   "cell_type": "code",
   "execution_count": 34,
   "metadata": {},
   "outputs": [
    {
     "data": {
      "text/html": [
       "<div>\n",
       "<style scoped>\n",
       "    .dataframe tbody tr th:only-of-type {\n",
       "        vertical-align: middle;\n",
       "    }\n",
       "\n",
       "    .dataframe tbody tr th {\n",
       "        vertical-align: top;\n",
       "    }\n",
       "\n",
       "    .dataframe thead th {\n",
       "        text-align: right;\n",
       "    }\n",
       "</style>\n",
       "<table border=\"1\" class=\"dataframe\">\n",
       "  <thead>\n",
       "    <tr style=\"text-align: right;\">\n",
       "      <th></th>\n",
       "      <th>text</th>\n",
       "      <th>tokens</th>\n",
       "      <th>schema</th>\n",
       "    </tr>\n",
       "  </thead>\n",
       "  <tbody>\n",
       "    <tr>\n",
       "      <th>15</th>\n",
       "      <td>whats happening in san francisco tonight</td>\n",
       "      <td>whats happening in san francisco tonight</td>\n",
       "      <td>[IN:GET_EVENT whats happening in [SL:LOCATION ...</td>\n",
       "    </tr>\n",
       "    <tr>\n",
       "      <th>29</th>\n",
       "      <td>What types of things can I do in Atlanta on th...</td>\n",
       "      <td>What types of things can I do in Atlanta on th...</td>\n",
       "      <td>[IN:GET_EVENT What types of things can I do in...</td>\n",
       "    </tr>\n",
       "    <tr>\n",
       "      <th>31</th>\n",
       "      <td>Events in Wadsworth</td>\n",
       "      <td>Events in Wadsworth</td>\n",
       "      <td>[IN:GET_EVENT Events in [SL:LOCATION Wadsworth...</td>\n",
       "    </tr>\n",
       "    <tr>\n",
       "      <th>42</th>\n",
       "      <td>Find me something to do in Boston this weekend</td>\n",
       "      <td>Find me something to do in Boston this weekend</td>\n",
       "      <td>[IN:GET_EVENT Find me something to do in [SL:L...</td>\n",
       "    </tr>\n",
       "    <tr>\n",
       "      <th>52</th>\n",
       "      <td>Help me find an event in Birmingham this weekend</td>\n",
       "      <td>Help me find an event in Birmingham this weekend</td>\n",
       "      <td>[IN:GET_EVENT Help me find an event in [SL:LOC...</td>\n",
       "    </tr>\n",
       "    <tr>\n",
       "      <th>...</th>\n",
       "      <td>...</td>\n",
       "      <td>...</td>\n",
       "      <td>...</td>\n",
       "    </tr>\n",
       "    <tr>\n",
       "      <th>31170</th>\n",
       "      <td>Fun events in NJ this weekend</td>\n",
       "      <td>Fun events in NJ this weekend</td>\n",
       "      <td>[IN:GET_EVENT Fun events in [SL:LOCATION NJ ] ...</td>\n",
       "    </tr>\n",
       "    <tr>\n",
       "      <th>31221</th>\n",
       "      <td>What's going on in Santa Fe next month</td>\n",
       "      <td>What 's going on in Santa Fe next month</td>\n",
       "      <td>[IN:GET_EVENT What 's going on in [SL:LOCATION...</td>\n",
       "    </tr>\n",
       "    <tr>\n",
       "      <th>31236</th>\n",
       "      <td>what is happening tonight</td>\n",
       "      <td>what is happening tonight</td>\n",
       "      <td>[IN:GET_EVENT what is happening [SL:DATE_TIME ...</td>\n",
       "    </tr>\n",
       "    <tr>\n",
       "      <th>31255</th>\n",
       "      <td>Events happening in March for Fargo</td>\n",
       "      <td>Events happening in March for Fargo</td>\n",
       "      <td>[IN:GET_EVENT Events happening [SL:DATE_TIME i...</td>\n",
       "    </tr>\n",
       "    <tr>\n",
       "      <th>31269</th>\n",
       "      <td>things to do in manchester tonight</td>\n",
       "      <td>things to do in manchester tonight</td>\n",
       "      <td>[IN:GET_EVENT things to do in [SL:LOCATION man...</td>\n",
       "    </tr>\n",
       "  </tbody>\n",
       "</table>\n",
       "<p>2455 rows × 3 columns</p>\n",
       "</div>"
      ],
      "text/plain": [
       "                                                    text  \\\n",
       "15              whats happening in san francisco tonight   \n",
       "29     What types of things can I do in Atlanta on th...   \n",
       "31                                   Events in Wadsworth   \n",
       "42        Find me something to do in Boston this weekend   \n",
       "52      Help me find an event in Birmingham this weekend   \n",
       "...                                                  ...   \n",
       "31170                      Fun events in NJ this weekend   \n",
       "31221             What's going on in Santa Fe next month   \n",
       "31236                          what is happening tonight   \n",
       "31255                Events happening in March for Fargo   \n",
       "31269                 things to do in manchester tonight   \n",
       "\n",
       "                                                  tokens  \\\n",
       "15              whats happening in san francisco tonight   \n",
       "29     What types of things can I do in Atlanta on th...   \n",
       "31                                   Events in Wadsworth   \n",
       "42        Find me something to do in Boston this weekend   \n",
       "52      Help me find an event in Birmingham this weekend   \n",
       "...                                                  ...   \n",
       "31170                      Fun events in NJ this weekend   \n",
       "31221            What 's going on in Santa Fe next month   \n",
       "31236                          what is happening tonight   \n",
       "31255                Events happening in March for Fargo   \n",
       "31269                 things to do in manchester tonight   \n",
       "\n",
       "                                                  schema  \n",
       "15     [IN:GET_EVENT whats happening in [SL:LOCATION ...  \n",
       "29     [IN:GET_EVENT What types of things can I do in...  \n",
       "31     [IN:GET_EVENT Events in [SL:LOCATION Wadsworth...  \n",
       "42     [IN:GET_EVENT Find me something to do in [SL:L...  \n",
       "52     [IN:GET_EVENT Help me find an event in [SL:LOC...  \n",
       "...                                                  ...  \n",
       "31170  [IN:GET_EVENT Fun events in [SL:LOCATION NJ ] ...  \n",
       "31221  [IN:GET_EVENT What 's going on in [SL:LOCATION...  \n",
       "31236  [IN:GET_EVENT what is happening [SL:DATE_TIME ...  \n",
       "31255  [IN:GET_EVENT Events happening [SL:DATE_TIME i...  \n",
       "31269  [IN:GET_EVENT things to do in [SL:LOCATION man...  \n",
       "\n",
       "[2455 rows x 3 columns]"
      ]
     },
     "execution_count": 34,
     "metadata": {},
     "output_type": "execute_result"
    }
   ],
   "source": [
    "tiers[0]"
   ]
  },
  {
   "cell_type": "code",
   "execution_count": 35,
   "metadata": {},
   "outputs": [
    {
     "data": {
      "text/html": [
       "<div>\n",
       "<style scoped>\n",
       "    .dataframe tbody tr th:only-of-type {\n",
       "        vertical-align: middle;\n",
       "    }\n",
       "\n",
       "    .dataframe tbody tr th {\n",
       "        vertical-align: top;\n",
       "    }\n",
       "\n",
       "    .dataframe thead th {\n",
       "        text-align: right;\n",
       "    }\n",
       "</style>\n",
       "<table border=\"1\" class=\"dataframe\">\n",
       "  <thead>\n",
       "    <tr style=\"text-align: right;\">\n",
       "      <th></th>\n",
       "      <th>text</th>\n",
       "      <th>tokens</th>\n",
       "      <th>schema</th>\n",
       "    </tr>\n",
       "  </thead>\n",
       "  <tbody>\n",
       "    <tr>\n",
       "      <th>5705</th>\n",
       "      <td>things to do in Las Vegas besides gambling</td>\n",
       "      <td>things to do in Las Vegas besides gambling</td>\n",
       "      <td>[IN:GET_EVENT things to do in [SL:LOCATION Las...</td>\n",
       "    </tr>\n",
       "    <tr>\n",
       "      <th>7312</th>\n",
       "      <td>what is the best way to go to the company's pa...</td>\n",
       "      <td>what is the best way to go to the company 's p...</td>\n",
       "      <td>[IN:GET_DIRECTIONS what is the best way to go ...</td>\n",
       "    </tr>\n",
       "    <tr>\n",
       "      <th>12767</th>\n",
       "      <td>times for the next 2 football games</td>\n",
       "      <td>times for the next 2 football games</td>\n",
       "      <td>[IN:GET_EVENT times for the [SL:ORDINAL next ]...</td>\n",
       "    </tr>\n",
       "    <tr>\n",
       "      <th>30923</th>\n",
       "      <td>Give me the two fastest routes from my house t...</td>\n",
       "      <td>Give me the two fastest routes from my house t...</td>\n",
       "      <td>[IN:GET_DIRECTIONS Give me the [SL:AMOUNT two ...</td>\n",
       "    </tr>\n",
       "    <tr>\n",
       "      <th>875</th>\n",
       "      <td>When will I make it to Dale City based on leav...</td>\n",
       "      <td>When will I make it to Dale City based on leav...</td>\n",
       "      <td>[IN:GET_ESTIMATED_ARRIVAL When will I make it ...</td>\n",
       "    </tr>\n",
       "    <tr>\n",
       "      <th>14939</th>\n",
       "      <td>What is the round trip mileage between the Ott...</td>\n",
       "      <td>What is the round trip mileage between the Ott...</td>\n",
       "      <td>[IN:GET_DISTANCE What is the round trip [SL:UN...</td>\n",
       "    </tr>\n",
       "    <tr>\n",
       "      <th>17908</th>\n",
       "      <td>what time should i leave to be at work by 9</td>\n",
       "      <td>what time should i leave to be at work by 9</td>\n",
       "      <td>[IN:GET_ESTIMATED_DEPARTURE what time should i...</td>\n",
       "    </tr>\n",
       "    <tr>\n",
       "      <th>18681</th>\n",
       "      <td>Get me directions to Foster Fest in downtown D...</td>\n",
       "      <td>Get me directions to Foster Fest in downtown D...</td>\n",
       "      <td>[IN:GET_DIRECTIONS Get me directions to [SL:DE...</td>\n",
       "    </tr>\n",
       "    <tr>\n",
       "      <th>5519</th>\n",
       "      <td>What</td>\n",
       "      <td>What</td>\n",
       "      <td>[IN:UNINTELLIGIBLE What ]</td>\n",
       "    </tr>\n",
       "    <tr>\n",
       "      <th>6047</th>\n",
       "      <td>Is to Blue bevill State Saturday January 5th a...</td>\n",
       "      <td>Is to Blue bevill State Saturday January 5th a...</td>\n",
       "      <td>[IN:UNINTELLIGIBLE Is to Blue bevill State Sat...</td>\n",
       "    </tr>\n",
       "    <tr>\n",
       "      <th>18405</th>\n",
       "      <td>San Francisco</td>\n",
       "      <td>San Francisco</td>\n",
       "      <td>[IN:UNINTELLIGIBLE San Francisco ]</td>\n",
       "    </tr>\n",
       "    <tr>\n",
       "      <th>19604</th>\n",
       "      <td>no alternate driving traffic</td>\n",
       "      <td>no alternate driving traffic</td>\n",
       "      <td>[IN:UNINTELLIGIBLE no alternate driving traffic ]</td>\n",
       "    </tr>\n",
       "    <tr>\n",
       "      <th>7597</th>\n",
       "      <td>are any of my friends hosting parties in Wilmi...</td>\n",
       "      <td>are any of my friends hosting parties in Wilmi...</td>\n",
       "      <td>[IN:GET_EVENT_ORGANIZER are any of [SL:ORGANIZ...</td>\n",
       "    </tr>\n",
       "    <tr>\n",
       "      <th>12975</th>\n",
       "      <td>Who is giving the Nutcracker performance this ...</td>\n",
       "      <td>Who is giving the Nutcracker performance this ...</td>\n",
       "      <td>[IN:GET_EVENT_ORGANIZER Who is giving [SL:CATE...</td>\n",
       "    </tr>\n",
       "    <tr>\n",
       "      <th>22473</th>\n",
       "      <td>Are any of my friends hosting Secret Santa par...</td>\n",
       "      <td>Are any of my friends hosting Secret Santa par...</td>\n",
       "      <td>[IN:GET_EVENT_ORGANIZER Are any of [SL:ORGANIZ...</td>\n",
       "    </tr>\n",
       "    <tr>\n",
       "      <th>25143</th>\n",
       "      <td>Who is hosting New Year's Eve Parties in Orlando</td>\n",
       "      <td>Who is hosting New Year 's Eve Parties in Orlando</td>\n",
       "      <td>[IN:GET_EVENT_ORGANIZER Who is hosting [SL:DAT...</td>\n",
       "    </tr>\n",
       "    <tr>\n",
       "      <th>7648</th>\n",
       "      <td>How many people have purchased tickets for the...</td>\n",
       "      <td>How many people have purchased tickets for the...</td>\n",
       "      <td>[IN:GET_EVENT_ATTENDEE_AMOUNT How many people ...</td>\n",
       "    </tr>\n",
       "    <tr>\n",
       "      <th>9057</th>\n",
       "      <td>how many people will be attending the event</td>\n",
       "      <td>how many people will be attending the event</td>\n",
       "      <td>[IN:GET_EVENT_ATTENDEE_AMOUNT how many people ...</td>\n",
       "    </tr>\n",
       "    <tr>\n",
       "      <th>10406</th>\n",
       "      <td>how many people expected to show up on first s...</td>\n",
       "      <td>how many people expected to show up on first s...</td>\n",
       "      <td>[IN:GET_EVENT_ATTENDEE_AMOUNT how many people ...</td>\n",
       "    </tr>\n",
       "    <tr>\n",
       "      <th>18557</th>\n",
       "      <td>how many people expected at the amphitheatre</td>\n",
       "      <td>how many people expected at the amphitheatre</td>\n",
       "      <td>[IN:GET_EVENT_ATTENDEE_AMOUNT how many people ...</td>\n",
       "    </tr>\n",
       "    <tr>\n",
       "      <th>9126</th>\n",
       "      <td>Whats the traffic like in my town</td>\n",
       "      <td>Whats the traffic like in my town</td>\n",
       "      <td>[IN:GET_INFO_TRAFFIC Whats the traffic like in...</td>\n",
       "    </tr>\n",
       "    <tr>\n",
       "      <th>9366</th>\n",
       "      <td>Is there any road work happening in my town</td>\n",
       "      <td>Is there any road work happening in my town</td>\n",
       "      <td>[IN:GET_INFO_TRAFFIC Is there any road work ha...</td>\n",
       "    </tr>\n",
       "    <tr>\n",
       "      <th>9464</th>\n",
       "      <td>Update me on the current traffic situations in...</td>\n",
       "      <td>Update me on the current traffic situations in...</td>\n",
       "      <td>[IN:GET_INFO_TRAFFIC Update me on the current ...</td>\n",
       "    </tr>\n",
       "    <tr>\n",
       "      <th>20625</th>\n",
       "      <td>Is there any accidents in my town</td>\n",
       "      <td>Is there any accidents in my town</td>\n",
       "      <td>[IN:GET_INFO_TRAFFIC Is there any accidents in...</td>\n",
       "    </tr>\n",
       "    <tr>\n",
       "      <th>14281</th>\n",
       "      <td>Can I add a stop at a gas station along the ro...</td>\n",
       "      <td>Can I add a stop at a gas station along the ro...</td>\n",
       "      <td>[IN:UPDATE_DIRECTIONS Can I add a stop at a [S...</td>\n",
       "    </tr>\n",
       "    <tr>\n",
       "      <th>23046</th>\n",
       "      <td>Add stop at Mr Bs to route</td>\n",
       "      <td>Add stop at Mr Bs to route</td>\n",
       "      <td>[IN:UPDATE_DIRECTIONS Add stop at [SL:WAYPOINT...</td>\n",
       "    </tr>\n",
       "    <tr>\n",
       "      <th>24838</th>\n",
       "      <td>Add stop at grocery store to my route</td>\n",
       "      <td>Add stop at grocery store to my route</td>\n",
       "      <td>[IN:UPDATE_DIRECTIONS Add stop at [SL:WAYPOINT...</td>\n",
       "    </tr>\n",
       "    <tr>\n",
       "      <th>29622</th>\n",
       "      <td>Add a gas stop to my route</td>\n",
       "      <td>Add a gas stop to my route</td>\n",
       "      <td>[IN:UPDATE_DIRECTIONS Add a [SL:WAYPOINT_ADDED...</td>\n",
       "    </tr>\n",
       "    <tr>\n",
       "      <th>85</th>\n",
       "      <td>Is Jack going to the concert</td>\n",
       "      <td>Is Jack going to the concert</td>\n",
       "      <td>[IN:GET_EVENT_ATTENDEE Is [SL:ATTENDEE_EVENT J...</td>\n",
       "    </tr>\n",
       "    <tr>\n",
       "      <th>19249</th>\n",
       "      <td>friends who have responded to my event on Sunday</td>\n",
       "      <td>friends who have responded to my event on Sunday</td>\n",
       "      <td>[IN:GET_EVENT_ATTENDEE [SL:ATTENDEE_EVENT [IN:...</td>\n",
       "    </tr>\n",
       "    <tr>\n",
       "      <th>23039</th>\n",
       "      <td>Did Sarah go to the 20 year reunion?</td>\n",
       "      <td>Did Sarah go to the 20 year reunion ?</td>\n",
       "      <td>[IN:GET_EVENT_ATTENDEE Did [SL:ATTENDEE_EVENT ...</td>\n",
       "    </tr>\n",
       "    <tr>\n",
       "      <th>24224</th>\n",
       "      <td>Are any of my friends going to the concert</td>\n",
       "      <td>Are any of my friends going to the concert</td>\n",
       "      <td>[IN:GET_EVENT_ATTENDEE Are any of [SL:ATTENDEE...</td>\n",
       "    </tr>\n",
       "  </tbody>\n",
       "</table>\n",
       "</div>"
      ],
      "text/plain": [
       "                                                    text  \\\n",
       "5705          things to do in Las Vegas besides gambling   \n",
       "7312   what is the best way to go to the company's pa...   \n",
       "12767                times for the next 2 football games   \n",
       "30923  Give me the two fastest routes from my house t...   \n",
       "875    When will I make it to Dale City based on leav...   \n",
       "14939  What is the round trip mileage between the Ott...   \n",
       "17908        what time should i leave to be at work by 9   \n",
       "18681  Get me directions to Foster Fest in downtown D...   \n",
       "5519                                                What   \n",
       "6047   Is to Blue bevill State Saturday January 5th a...   \n",
       "18405                                      San Francisco   \n",
       "19604                       no alternate driving traffic   \n",
       "7597   are any of my friends hosting parties in Wilmi...   \n",
       "12975  Who is giving the Nutcracker performance this ...   \n",
       "22473  Are any of my friends hosting Secret Santa par...   \n",
       "25143   Who is hosting New Year's Eve Parties in Orlando   \n",
       "7648   How many people have purchased tickets for the...   \n",
       "9057         how many people will be attending the event   \n",
       "10406  how many people expected to show up on first s...   \n",
       "18557       how many people expected at the amphitheatre   \n",
       "9126                   Whats the traffic like in my town   \n",
       "9366         Is there any road work happening in my town   \n",
       "9464   Update me on the current traffic situations in...   \n",
       "20625                  Is there any accidents in my town   \n",
       "14281  Can I add a stop at a gas station along the ro...   \n",
       "23046                         Add stop at Mr Bs to route   \n",
       "24838              Add stop at grocery store to my route   \n",
       "29622                         Add a gas stop to my route   \n",
       "85                          Is Jack going to the concert   \n",
       "19249   friends who have responded to my event on Sunday   \n",
       "23039               Did Sarah go to the 20 year reunion?   \n",
       "24224         Are any of my friends going to the concert   \n",
       "\n",
       "                                                  tokens  \\\n",
       "5705          things to do in Las Vegas besides gambling   \n",
       "7312   what is the best way to go to the company 's p...   \n",
       "12767                times for the next 2 football games   \n",
       "30923  Give me the two fastest routes from my house t...   \n",
       "875    When will I make it to Dale City based on leav...   \n",
       "14939  What is the round trip mileage between the Ott...   \n",
       "17908        what time should i leave to be at work by 9   \n",
       "18681  Get me directions to Foster Fest in downtown D...   \n",
       "5519                                                What   \n",
       "6047   Is to Blue bevill State Saturday January 5th a...   \n",
       "18405                                      San Francisco   \n",
       "19604                       no alternate driving traffic   \n",
       "7597   are any of my friends hosting parties in Wilmi...   \n",
       "12975  Who is giving the Nutcracker performance this ...   \n",
       "22473  Are any of my friends hosting Secret Santa par...   \n",
       "25143  Who is hosting New Year 's Eve Parties in Orlando   \n",
       "7648   How many people have purchased tickets for the...   \n",
       "9057         how many people will be attending the event   \n",
       "10406  how many people expected to show up on first s...   \n",
       "18557       how many people expected at the amphitheatre   \n",
       "9126                   Whats the traffic like in my town   \n",
       "9366         Is there any road work happening in my town   \n",
       "9464   Update me on the current traffic situations in...   \n",
       "20625                  Is there any accidents in my town   \n",
       "14281  Can I add a stop at a gas station along the ro...   \n",
       "23046                         Add stop at Mr Bs to route   \n",
       "24838              Add stop at grocery store to my route   \n",
       "29622                         Add a gas stop to my route   \n",
       "85                          Is Jack going to the concert   \n",
       "19249   friends who have responded to my event on Sunday   \n",
       "23039              Did Sarah go to the 20 year reunion ?   \n",
       "24224         Are any of my friends going to the concert   \n",
       "\n",
       "                                                  schema  \n",
       "5705   [IN:GET_EVENT things to do in [SL:LOCATION Las...  \n",
       "7312   [IN:GET_DIRECTIONS what is the best way to go ...  \n",
       "12767  [IN:GET_EVENT times for the [SL:ORDINAL next ]...  \n",
       "30923  [IN:GET_DIRECTIONS Give me the [SL:AMOUNT two ...  \n",
       "875    [IN:GET_ESTIMATED_ARRIVAL When will I make it ...  \n",
       "14939  [IN:GET_DISTANCE What is the round trip [SL:UN...  \n",
       "17908  [IN:GET_ESTIMATED_DEPARTURE what time should i...  \n",
       "18681  [IN:GET_DIRECTIONS Get me directions to [SL:DE...  \n",
       "5519                           [IN:UNINTELLIGIBLE What ]  \n",
       "6047   [IN:UNINTELLIGIBLE Is to Blue bevill State Sat...  \n",
       "18405                 [IN:UNINTELLIGIBLE San Francisco ]  \n",
       "19604  [IN:UNINTELLIGIBLE no alternate driving traffic ]  \n",
       "7597   [IN:GET_EVENT_ORGANIZER are any of [SL:ORGANIZ...  \n",
       "12975  [IN:GET_EVENT_ORGANIZER Who is giving [SL:CATE...  \n",
       "22473  [IN:GET_EVENT_ORGANIZER Are any of [SL:ORGANIZ...  \n",
       "25143  [IN:GET_EVENT_ORGANIZER Who is hosting [SL:DAT...  \n",
       "7648   [IN:GET_EVENT_ATTENDEE_AMOUNT How many people ...  \n",
       "9057   [IN:GET_EVENT_ATTENDEE_AMOUNT how many people ...  \n",
       "10406  [IN:GET_EVENT_ATTENDEE_AMOUNT how many people ...  \n",
       "18557  [IN:GET_EVENT_ATTENDEE_AMOUNT how many people ...  \n",
       "9126   [IN:GET_INFO_TRAFFIC Whats the traffic like in...  \n",
       "9366   [IN:GET_INFO_TRAFFIC Is there any road work ha...  \n",
       "9464   [IN:GET_INFO_TRAFFIC Update me on the current ...  \n",
       "20625  [IN:GET_INFO_TRAFFIC Is there any accidents in...  \n",
       "14281  [IN:UPDATE_DIRECTIONS Can I add a stop at a [S...  \n",
       "23046  [IN:UPDATE_DIRECTIONS Add stop at [SL:WAYPOINT...  \n",
       "24838  [IN:UPDATE_DIRECTIONS Add stop at [SL:WAYPOINT...  \n",
       "29622  [IN:UPDATE_DIRECTIONS Add a [SL:WAYPOINT_ADDED...  \n",
       "85     [IN:GET_EVENT_ATTENDEE Is [SL:ATTENDEE_EVENT J...  \n",
       "19249  [IN:GET_EVENT_ATTENDEE [SL:ATTENDEE_EVENT [IN:...  \n",
       "23039  [IN:GET_EVENT_ATTENDEE Did [SL:ATTENDEE_EVENT ...  \n",
       "24224  [IN:GET_EVENT_ATTENDEE Are any of [SL:ATTENDEE...  "
      ]
     },
     "execution_count": 35,
     "metadata": {},
     "output_type": "execute_result"
    }
   ],
   "source": [
    "tiers[-1]"
   ]
  },
  {
   "cell_type": "code",
   "execution_count": 36,
   "metadata": {},
   "outputs": [
    {
     "data": {
      "text/plain": [
       "['SL:', '[', ']', 'LOCATION', 'GET_EVENT', 'DATE_TIME', 'IN:']"
      ]
     },
     "execution_count": 36,
     "metadata": {},
     "output_type": "execute_result"
    }
   ],
   "source": [
    "vocabularies[0]"
   ]
  },
  {
   "cell_type": "code",
   "execution_count": 37,
   "metadata": {},
   "outputs": [
    {
     "name": "stdout",
     "output_type": "stream",
     "text": [
      "['SL:', '[', ']', 'LOCATION', 'GET_EVENT', 'DATE_TIME', 'IN:', 'GET_INFO_TRAFFIC', 'DESTINATION', 'GET_LOCATION', 'CATEGORY_EVENT', 'SOURCE', 'GET_ESTIMATED_DURATION', 'GET_LOCATION_HOME', 'UNSUPPORTED', 'METHOD_TRAVEL', 'CATEGORY_LOCATION', 'DATE_TIME_DEPARTURE', 'POINT_ON_MAP', 'GET_DIRECTIONS', 'CONTACT', 'GET_DISTANCE', 'LOCATION_USER', 'UNSUPPORTED_NAVIGATION', 'PATH', 'GET_ESTIMATED_ARRIVAL', 'SEARCH_RADIUS', 'LOCATION_MODIFIER', 'DATE_TIME_ARRIVAL', 'GET_LOCATION_WORK', 'NAME_EVENT', 'ATTRIBUTE_EVENT', 'GET_ESTIMATED_DEPARTURE', 'UNIT_DISTANCE', 'TYPE_RELATION', 'OBSTRUCTION_AVOID', 'ROAD_CONDITION', 'GET_INFO_ROAD_CONDITION', 'CONTACT_RELATED', 'PATH_AVOID', 'ORGANIZER_EVENT', 'UNSUPPORTED_EVENT', 'UPDATE_DIRECTIONS', 'ORDINAL', 'GET_LOCATION_SCHOOL', 'WAYPOINT', 'ATTENDEE_EVENT', 'COMBINE', 'OBSTRUCTION', 'GET_CONTACT', 'GET_INFO_ROUTE', 'LOCATION_CURRENT', 'ROAD_CONDITION_AVOID', 'WAYPOINT_AVOID', 'NEGATION', 'GET_EVENT_ORGANIZER', 'UNINTELLIGIBLE', 'LOCATION_WORK', 'GET_LOCATION_HOMETOWN', 'GET_EVENT_ATTENDEE_AMOUNT', 'GROUP', 'GET_EVENT_ATTENDEE', 'WAYPOINT_ADDED', 'AMOUNT']\n"
     ]
    }
   ],
   "source": [
    "print(vocabularies[-1])"
   ]
  },
  {
   "cell_type": "markdown",
   "metadata": {},
   "source": [
    "## Save all of the data"
   ]
  },
  {
   "cell_type": "code",
   "execution_count": 38,
   "metadata": {},
   "outputs": [],
   "source": [
    "# !rm -rf ../data/top-incremental/"
   ]
  },
  {
   "cell_type": "code",
   "execution_count": 41,
   "metadata": {},
   "outputs": [],
   "source": [
    "for i, (tier_train, tier_val, tier_test, vocab) in enumerate(zip(tiers, validation_tiers, test_tiers, vocabularies)):\n",
    "    os.makedirs(f\"../data/top-incremental/batch_{i}\", exist_ok=True)\n",
    "\n",
    "    tier_train.to_csv(f\"../data/top-incremental/batch_{i}/train.tsv\", sep=\"\\t\", index=False, header=False)\n",
    "    tier_val.to_csv(f\"../data/top-incremental/batch_{i}/eval.tsv\", sep=\"\\t\", index=False, header=False)\n",
    "    tier_test.to_csv(f\"../data/top-incremental/batch_{i}/test.tsv\", sep=\"\\t\", index=False, header=False)\n",
    "\n",
    "    with open(f\"../data/top-incremental/batch_{i}/vocab.txt\", \"w\") as f:\n",
    "        f.write(\"\\n\".join(vocab))"
   ]
  },
  {
   "cell_type": "code",
   "execution_count": null,
   "metadata": {},
   "outputs": [],
   "source": []
  }
 ],
 "metadata": {
  "kernelspec": {
   "display_name": "nsp",
   "language": "python",
   "name": "nsp"
  },
  "language_info": {
   "codemirror_mode": {
    "name": "ipython",
    "version": 3
   },
   "file_extension": ".py",
   "mimetype": "text/x-python",
   "name": "python",
   "nbconvert_exporter": "python",
   "pygments_lexer": "ipython3",
   "version": "3.8.5"
  }
 },
 "nbformat": 4,
 "nbformat_minor": 4
}
