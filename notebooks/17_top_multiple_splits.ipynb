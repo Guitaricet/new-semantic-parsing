{
 "cells": [
  {
   "cell_type": "markdown",
   "metadata": {},
   "source": [
    "# Split TOP into multiple class-incremental chunks"
   ]
  },
  {
   "cell_type": "code",
   "execution_count": 1,
   "metadata": {},
   "outputs": [],
   "source": [
    "import os\n",
    "from collections import Counter\n",
    "from functools import reduce\n",
    "\n",
    "import pandas as pd\n",
    "from tqdm.auto import tqdm\n",
    "\n",
    "import matplotlib.pyplot as plt\n",
    "\n",
    "from new_semantic_parsing import utils"
   ]
  },
  {
   "cell_type": "code",
   "execution_count": 2,
   "metadata": {},
   "outputs": [
    {
     "data": {
      "text/html": [
       "<div>\n",
       "<style scoped>\n",
       "    .dataframe tbody tr th:only-of-type {\n",
       "        vertical-align: middle;\n",
       "    }\n",
       "\n",
       "    .dataframe tbody tr th {\n",
       "        vertical-align: top;\n",
       "    }\n",
       "\n",
       "    .dataframe thead th {\n",
       "        text-align: right;\n",
       "    }\n",
       "</style>\n",
       "<table border=\"1\" class=\"dataframe\">\n",
       "  <thead>\n",
       "    <tr style=\"text-align: right;\">\n",
       "      <th></th>\n",
       "      <th>text</th>\n",
       "      <th>tokens</th>\n",
       "      <th>schema</th>\n",
       "    </tr>\n",
       "  </thead>\n",
       "  <tbody>\n",
       "    <tr>\n",
       "      <th>0</th>\n",
       "      <td>How long will it take to drive from Chicago to...</td>\n",
       "      <td>How long will it take to drive from Chicago to...</td>\n",
       "      <td>[IN:GET_ESTIMATED_DURATION How long will it ta...</td>\n",
       "    </tr>\n",
       "    <tr>\n",
       "      <th>1</th>\n",
       "      <td>Will it take shorter to get to the White House...</td>\n",
       "      <td>Will it take shorter to get to the White House...</td>\n",
       "      <td>[IN:UNSUPPORTED_NAVIGATION Will it take shorte...</td>\n",
       "    </tr>\n",
       "    <tr>\n",
       "      <th>2</th>\n",
       "      <td>will I make it to the beach by noon if I leave...</td>\n",
       "      <td>will I make it to the beach by noon if I leave...</td>\n",
       "      <td>[IN:GET_ESTIMATED_ARRIVAL will I make it to [S...</td>\n",
       "    </tr>\n",
       "    <tr>\n",
       "      <th>3</th>\n",
       "      <td>When should I leave my house to get to the Ham...</td>\n",
       "      <td>When should I leave my house to get to the Ham...</td>\n",
       "      <td>[IN:GET_ESTIMATED_DEPARTURE When should I leav...</td>\n",
       "    </tr>\n",
       "    <tr>\n",
       "      <th>4</th>\n",
       "      <td>I need to know if there's a lot of traffic on ...</td>\n",
       "      <td>I need to know if there 's a lot of traffic on...</td>\n",
       "      <td>[IN:GET_INFO_TRAFFIC I need to know if there '...</td>\n",
       "    </tr>\n",
       "    <tr>\n",
       "      <th>...</th>\n",
       "      <td>...</td>\n",
       "      <td>...</td>\n",
       "      <td>...</td>\n",
       "    </tr>\n",
       "    <tr>\n",
       "      <th>31274</th>\n",
       "      <td>current traffic at border</td>\n",
       "      <td>current traffic at border</td>\n",
       "      <td>[IN:GET_INFO_TRAFFIC current traffic at [SL:LO...</td>\n",
       "    </tr>\n",
       "    <tr>\n",
       "      <th>31275</th>\n",
       "      <td>Fastest route to wax museum in San Francisco</td>\n",
       "      <td>Fastest route to wax museum in San Francisco</td>\n",
       "      <td>[IN:GET_DIRECTIONS Fastest route to [SL:DESTIN...</td>\n",
       "    </tr>\n",
       "    <tr>\n",
       "      <th>31276</th>\n",
       "      <td>any christmas shows</td>\n",
       "      <td>any christmas shows</td>\n",
       "      <td>[IN:GET_EVENT any [SL:DATE_TIME christmas ] [S...</td>\n",
       "    </tr>\n",
       "    <tr>\n",
       "      <th>31277</th>\n",
       "      <td>Road conditions updates</td>\n",
       "      <td>Road conditions updates</td>\n",
       "      <td>[IN:GET_INFO_ROAD_CONDITION Road conditions up...</td>\n",
       "    </tr>\n",
       "    <tr>\n",
       "      <th>31278</th>\n",
       "      <td>What's the traffic from Flint to Detroit</td>\n",
       "      <td>What 's the traffic from Flint to Detroit</td>\n",
       "      <td>[IN:GET_INFO_TRAFFIC What 's the traffic from ...</td>\n",
       "    </tr>\n",
       "  </tbody>\n",
       "</table>\n",
       "<p>31279 rows × 3 columns</p>\n",
       "</div>"
      ],
      "text/plain": [
       "                                                    text  \\\n",
       "0      How long will it take to drive from Chicago to...   \n",
       "1      Will it take shorter to get to the White House...   \n",
       "2      will I make it to the beach by noon if I leave...   \n",
       "3      When should I leave my house to get to the Ham...   \n",
       "4      I need to know if there's a lot of traffic on ...   \n",
       "...                                                  ...   \n",
       "31274                          current traffic at border   \n",
       "31275       Fastest route to wax museum in San Francisco   \n",
       "31276                                any christmas shows   \n",
       "31277                            Road conditions updates   \n",
       "31278           What's the traffic from Flint to Detroit   \n",
       "\n",
       "                                                  tokens  \\\n",
       "0      How long will it take to drive from Chicago to...   \n",
       "1      Will it take shorter to get to the White House...   \n",
       "2      will I make it to the beach by noon if I leave...   \n",
       "3      When should I leave my house to get to the Ham...   \n",
       "4      I need to know if there 's a lot of traffic on...   \n",
       "...                                                  ...   \n",
       "31274                          current traffic at border   \n",
       "31275       Fastest route to wax museum in San Francisco   \n",
       "31276                                any christmas shows   \n",
       "31277                            Road conditions updates   \n",
       "31278          What 's the traffic from Flint to Detroit   \n",
       "\n",
       "                                                  schema  \n",
       "0      [IN:GET_ESTIMATED_DURATION How long will it ta...  \n",
       "1      [IN:UNSUPPORTED_NAVIGATION Will it take shorte...  \n",
       "2      [IN:GET_ESTIMATED_ARRIVAL will I make it to [S...  \n",
       "3      [IN:GET_ESTIMATED_DEPARTURE When should I leav...  \n",
       "4      [IN:GET_INFO_TRAFFIC I need to know if there '...  \n",
       "...                                                  ...  \n",
       "31274  [IN:GET_INFO_TRAFFIC current traffic at [SL:LO...  \n",
       "31275  [IN:GET_DIRECTIONS Fastest route to [SL:DESTIN...  \n",
       "31276  [IN:GET_EVENT any [SL:DATE_TIME christmas ] [S...  \n",
       "31277  [IN:GET_INFO_ROAD_CONDITION Road conditions up...  \n",
       "31278  [IN:GET_INFO_TRAFFIC What 's the traffic from ...  \n",
       "\n",
       "[31279 rows x 3 columns]"
      ]
     },
     "execution_count": 2,
     "metadata": {},
     "output_type": "execute_result"
    }
   ],
   "source": [
    "data = pd.read_table('../data/top-dataset-semantic-parsing/train.tsv', names=['text', 'tokens', 'schema'])\n",
    "validation_data = pd.read_table('../data/top-dataset-semantic-parsing/eval.tsv', names=['text', 'tokens', 'schema'])\n",
    "test_data = pd.read_table('../data/top-dataset-semantic-parsing/test.tsv', names=['text', 'tokens', 'schema'])\n",
    "\n",
    "data"
   ]
  },
  {
   "cell_type": "code",
   "execution_count": 3,
   "metadata": {},
   "outputs": [],
   "source": [
    "all_schema_tokens = {'IN:COMBINE',\n",
    " 'IN:GET_CONTACT',\n",
    " 'IN:GET_DIRECTIONS',\n",
    " 'IN:GET_DISTANCE',\n",
    " 'IN:GET_ESTIMATED_ARRIVAL',\n",
    " 'IN:GET_ESTIMATED_DEPARTURE',\n",
    " 'IN:GET_ESTIMATED_DURATION',\n",
    " 'IN:GET_EVENT',\n",
    " 'IN:GET_EVENT_ATTENDEE',\n",
    " 'IN:GET_EVENT_ATTENDEE_AMOUNT',\n",
    " 'IN:GET_EVENT_ORGANIZER',\n",
    " 'IN:GET_INFO_ROAD_CONDITION',\n",
    " 'IN:GET_INFO_ROUTE',\n",
    " 'IN:GET_INFO_TRAFFIC',\n",
    " 'IN:GET_LOCATION',\n",
    " 'IN:GET_LOCATION_HOME',\n",
    " 'IN:GET_LOCATION_HOMETOWN',\n",
    " 'IN:GET_LOCATION_SCHOOL',\n",
    " 'IN:GET_LOCATION_WORK',\n",
    " 'IN:NEGATION',\n",
    " 'IN:UNINTELLIGIBLE',\n",
    " 'IN:UNSUPPORTED',\n",
    " 'IN:UNSUPPORTED_EVENT',\n",
    " 'IN:UNSUPPORTED_NAVIGATION',\n",
    " 'IN:UPDATE_DIRECTIONS',\n",
    " 'SL:AMOUNT',\n",
    " 'SL:ATTENDEE_EVENT',\n",
    " 'SL:ATTRIBUTE_EVENT',\n",
    " 'SL:CATEGORY_EVENT',\n",
    " 'SL:CATEGORY_LOCATION',\n",
    " 'SL:COMBINE',\n",
    " 'SL:CONTACT',\n",
    " 'SL:CONTACT_RELATED',\n",
    " 'SL:DATE_TIME',\n",
    " 'SL:DATE_TIME_ARRIVAL',\n",
    " 'SL:DATE_TIME_DEPARTURE',\n",
    " 'SL:DESTINATION',\n",
    " 'SL:GROUP',\n",
    " 'SL:LOCATION',\n",
    " 'SL:LOCATION_CURRENT',\n",
    " 'SL:LOCATION_MODIFIER',\n",
    " 'SL:LOCATION_USER',\n",
    " 'SL:LOCATION_WORK',\n",
    " 'SL:METHOD_TRAVEL',\n",
    " 'SL:NAME_EVENT',\n",
    " 'SL:OBSTRUCTION',\n",
    " 'SL:OBSTRUCTION_AVOID',\n",
    " 'SL:ORDINAL',\n",
    " 'SL:ORGANIZER_EVENT',\n",
    " 'SL:PATH',\n",
    " 'SL:PATH_AVOID',\n",
    " 'SL:POINT_ON_MAP',\n",
    " 'SL:ROAD_CONDITION',\n",
    " 'SL:ROAD_CONDITION_AVOID',\n",
    " 'SL:SEARCH_RADIUS',\n",
    " 'SL:SOURCE',\n",
    " 'SL:TYPE_RELATION',\n",
    " 'SL:UNIT_DISTANCE',\n",
    " 'SL:WAYPOINT',\n",
    " 'SL:WAYPOINT_ADDED',\n",
    " 'SL:WAYPOINT_AVOID',\n",
    "}"
   ]
  },
  {
   "cell_type": "code",
   "execution_count": 4,
   "metadata": {},
   "outputs": [
    {
     "data": {
      "application/vnd.jupyter.widget-view+json": {
       "model_id": "72bc6efa20d54b109d2f9dcfaabb6631",
       "version_major": 2,
       "version_minor": 0
      },
      "text/plain": [
       "HBox(children=(HTML(value=''), FloatProgress(value=0.0, max=31279.0), HTML(value='')))"
      ]
     },
     "metadata": {},
     "output_type": "display_data"
    },
    {
     "name": "stdout",
     "output_type": "stream",
     "text": [
      "\n"
     ]
    }
   ],
   "source": [
    "frequencies = Counter()\n",
    "\n",
    "for schema_str in tqdm(data.schema):\n",
    "    for token in all_schema_tokens:\n",
    "        if token in schema_str:\n",
    "            frequencies[token] += 1"
   ]
  },
  {
   "cell_type": "code",
   "execution_count": 5,
   "metadata": {},
   "outputs": [],
   "source": [
    "all_schema_tokens_sorted = sorted(frequencies.items(), key=lambda x: x[1])"
   ]
  },
  {
   "cell_type": "code",
   "execution_count": 6,
   "metadata": {},
   "outputs": [
    {
     "data": {
      "text/plain": [
       "[('IN:NEGATION', 1),\n",
       " ('SL:GROUP', 1),\n",
       " ('SL:AMOUNT', 2),\n",
       " ('SL:LOCATION_WORK', 4),\n",
       " ('IN:UNINTELLIGIBLE', 4),\n",
       " ('IN:GET_EVENT_ORGANIZER', 4),\n",
       " ('IN:GET_EVENT_ATTENDEE_AMOUNT', 4),\n",
       " ('IN:GET_LOCATION_HOMETOWN', 4),\n",
       " ('SL:WAYPOINT_ADDED', 4),\n",
       " ('IN:GET_EVENT_ATTENDEE', 8),\n",
       " ('SL:WAYPOINT_AVOID', 18),\n",
       " ('SL:ROAD_CONDITION_AVOID', 22),\n",
       " ('SL:LOCATION_CURRENT', 34),\n",
       " ('IN:GET_INFO_ROUTE', 46),\n",
       " ('IN:GET_CONTACT', 53),\n",
       " ('SL:COMBINE', 61),\n",
       " ('IN:COMBINE', 61),\n",
       " ('SL:ATTENDEE_EVENT', 109),\n",
       " ('SL:WAYPOINT', 122),\n",
       " ('IN:GET_LOCATION_SCHOOL', 180),\n",
       " ('SL:ORDINAL', 219),\n",
       " ('IN:UPDATE_DIRECTIONS', 247),\n",
       " ('IN:UNSUPPORTED_EVENT', 300),\n",
       " ('SL:ORGANIZER_EVENT', 316),\n",
       " ('SL:PATH_AVOID', 320),\n",
       " ('SL:CONTACT_RELATED', 375),\n",
       " ('IN:GET_INFO_ROAD_CONDITION', 377),\n",
       " ('SL:ROAD_CONDITION', 489),\n",
       " ('SL:OBSTRUCTION_AVOID', 556),\n",
       " ('SL:TYPE_RELATION', 558),\n",
       " ('SL:UNIT_DISTANCE', 559),\n",
       " ('SL:OBSTRUCTION', 577),\n",
       " ('IN:GET_ESTIMATED_DEPARTURE', 741),\n",
       " ('SL:ATTRIBUTE_EVENT', 871),\n",
       " ('SL:NAME_EVENT', 1147),\n",
       " ('IN:GET_LOCATION_WORK', 1269),\n",
       " ('SL:DATE_TIME_ARRIVAL', 1279),\n",
       " ('SL:LOCATION_MODIFIER', 1285),\n",
       " ('SL:SEARCH_RADIUS', 1308),\n",
       " ('IN:GET_ESTIMATED_ARRIVAL', 1508),\n",
       " ('SL:PATH', 1508),\n",
       " ('IN:UNSUPPORTED_NAVIGATION', 1514),\n",
       " ('SL:LOCATION_USER', 1745),\n",
       " ('IN:GET_DISTANCE', 1750),\n",
       " ('SL:CONTACT', 1752),\n",
       " ('IN:GET_DIRECTIONS', 1892),\n",
       " ('SL:POINT_ON_MAP', 2191),\n",
       " ('SL:DATE_TIME_DEPARTURE', 2238),\n",
       " ('SL:CATEGORY_LOCATION', 2285),\n",
       " ('SL:METHOD_TRAVEL', 2605),\n",
       " ('IN:UNSUPPORTED', 2865),\n",
       " ('IN:GET_LOCATION_HOME', 3215),\n",
       " ('IN:GET_ESTIMATED_DURATION', 4182),\n",
       " ('SL:SOURCE', 5967),\n",
       " ('SL:CATEGORY_EVENT', 6652),\n",
       " ('IN:GET_INFO_TRAFFIC', 8795),\n",
       " ('IN:GET_LOCATION', 10111),\n",
       " ('IN:GET_EVENT', 10317),\n",
       " ('SL:LOCATION', 12153),\n",
       " ('SL:DESTINATION', 12442),\n",
       " ('SL:DATE_TIME', 13214)]"
      ]
     },
     "execution_count": 6,
     "metadata": {},
     "output_type": "execute_result"
    }
   ],
   "source": [
    "all_schema_tokens_sorted"
   ]
  },
  {
   "cell_type": "code",
   "execution_count": 7,
   "metadata": {},
   "outputs": [
    {
     "name": "stdout",
     "output_type": "stream",
     "text": [
      "Token IN:COMBINE does not have examples\n",
      "Token SL:OBSTRUCTION does not have examples\n",
      "Token SL:LOCATION does not have examples\n",
      "Token SL:DESTINATION does not have examples\n",
      "Token SL:DATE_TIME does not have examples\n"
     ]
    }
   ],
   "source": [
    "tiers = []\n",
    "\n",
    "for token, _ in all_schema_tokens_sorted:\n",
    "    tier = data[data.schema.str.contains(token)]\n",
    "\n",
    "    for previous_tier in tiers:\n",
    "        tier = tier.loc[tier.index.difference(previous_tier.index)]\n",
    "    \n",
    "    if len(tier) == 0:\n",
    "        print(f\"Token {token} does not have examples\")\n",
    "        continue\n",
    "    \n",
    "    tiers.append(tier)\n",
    "\n",
    "if sum(len(t) for t in tiers) != len(data):\n",
    "    print(\"Error happend\")"
   ]
  },
  {
   "cell_type": "code",
   "execution_count": 8,
   "metadata": {},
   "outputs": [
    {
     "data": {
      "text/plain": [
       "56"
      ]
     },
     "execution_count": 8,
     "metadata": {},
     "output_type": "execute_result"
    }
   ],
   "source": [
    "len(tiers)"
   ]
  },
  {
   "cell_type": "code",
   "execution_count": 9,
   "metadata": {},
   "outputs": [
    {
     "name": "stdout",
     "output_type": "stream",
     "text": [
      "0 0\n",
      "1 0\n",
      "2 0\n",
      "3 0\n",
      "4 0\n",
      "5 2\n",
      "6 0\n",
      "7 0\n",
      "8 0\n",
      "9 1\n",
      "10 0\n",
      "11 0\n",
      "12 12\n",
      "13 0\n",
      "14 44\n",
      "15 0\n",
      "16 1\n",
      "17 7\n",
      "18 16\n",
      "19 0\n",
      "20 1\n",
      "21 0\n",
      "22 1\n",
      "23 9\n",
      "24 281\n",
      "25 0\n",
      "26 0\n",
      "27 0\n",
      "28 0\n",
      "29 0\n",
      "30 0\n",
      "31 0\n",
      "32 0\n",
      "33 0\n",
      "34 0\n",
      "35 0\n",
      "36 0\n",
      "37 0\n",
      "38 0\n",
      "39 0\n",
      "40 0\n",
      "41 0\n",
      "42 0\n",
      "43 0\n",
      "44 0\n",
      "45 0\n",
      "46 0\n",
      "47 0\n",
      "48 0\n",
      "49 0\n",
      "50 0\n",
      "51 0\n",
      "52 0\n",
      "53 0\n",
      "54 0\n",
      "55 0\n"
     ]
    }
   ],
   "source": [
    "# sanity check that more frequent class splits do not have less frequent classes\n",
    "for i, t in enumerate(tiers):\n",
    "    print(i, sum(t.schema.str.contains(\"SL:CONTACT_RELATED\")))"
   ]
  },
  {
   "cell_type": "code",
   "execution_count": 10,
   "metadata": {},
   "outputs": [
    {
     "data": {
      "image/png": "[encoded data removed]",
      "text/plain": [
       "<Figure size 1296x720 with 1 Axes>"
      ]
     },
     "metadata": {
      "needs_background": "light"
     },
     "output_type": "display_data"
    }
   ],
   "source": [
    "bars = {v[0]: len(t) for v, t in zip(all_schema_tokens_sorted, tiers)}\n",
    "\n",
    "plt.figure(figsize=(18, 10))\n",
    "plt.bar(bars.keys(), bars.values())\n",
    "plt.xticks(rotation=\"vertical\")\n",
    "plt.show()"
   ]
  },
  {
   "cell_type": "code",
   "execution_count": 11,
   "metadata": {},
   "outputs": [
    {
     "name": "stdout",
     "output_type": "stream",
     "text": [
      "IN:GET_EVENT\n",
      "SL:DATE_TIME\n",
      "SL:LOCATION\n"
     ]
    }
   ],
   "source": [
    "for t in all_schema_tokens:\n",
    "    if tiers[-1].schema.str.contains(t).any():\n",
    "        print(t)"
   ]
  },
  {
   "cell_type": "code",
   "execution_count": 12,
   "metadata": {},
   "outputs": [
    {
     "name": "stdout",
     "output_type": "stream",
     "text": [
      "SL:LOCATION\n",
      "IN:GET_LOCATION\n"
     ]
    }
   ],
   "source": [
    "for t in all_schema_tokens:\n",
    "    if tiers[-2].schema.str.contains(t).any():\n",
    "        print(t)"
   ]
  },
  {
   "cell_type": "code",
   "execution_count": 13,
   "metadata": {},
   "outputs": [
    {
     "name": "stdout",
     "output_type": "stream",
     "text": [
      "SL:DATE_TIME\n",
      "SL:DESTINATION\n",
      "IN:GET_INFO_TRAFFIC\n",
      "SL:LOCATION\n",
      "IN:GET_LOCATION\n"
     ]
    }
   ],
   "source": [
    "for t in all_schema_tokens:\n",
    "    if tiers[-3].schema.str.contains(t).any():\n",
    "        print(t)"
   ]
  },
  {
   "cell_type": "markdown",
   "metadata": {},
   "source": [
    "### Combine all tiers with low frequency (less than 10 for TOP dataset) into a single tier"
   ]
  },
  {
   "cell_type": "code",
   "execution_count": 14,
   "metadata": {},
   "outputs": [
    {
     "name": "stdout",
     "output_type": "stream",
     "text": [
      "Merging the tier for token SL:GROUP of size 1 with the previous tier. Combined tier size 2\n",
      "Merging the tier for token SL:AMOUNT of size 2 with the previous tier. Combined tier size 4\n",
      "Merging the tier for token SL:LOCATION_WORK of size 4 with the previous tier. Combined tier size 8\n",
      "Merging the tier for token IN:UNINTELLIGIBLE of size 4 with the previous tier. Combined tier size 12\n",
      "Merging the tier for token IN:GET_EVENT_ORGANIZER of size 4 with the previous tier. Combined tier size 16\n",
      "Merging the tier for token IN:GET_EVENT_ATTENDEE_AMOUNT of size 4 with the previous tier. Combined tier size 20\n",
      "Merging the tier for token IN:GET_LOCATION_HOMETOWN of size 4 with the previous tier. Combined tier size 24\n",
      "Merging the tier for token SL:WAYPOINT_ADDED of size 4 with the previous tier. Combined tier size 28\n",
      "Merging the tier for token IN:GET_EVENT_ATTENDEE of size 4 with the previous tier. Combined tier size 32\n",
      "Token IN:COMBINE does not have examples\n",
      "Token SL:OBSTRUCTION does not have examples\n",
      "Merging the tier for token IN:GET_LOCATION of size 4 with the previous tier. Combined tier size 4990\n",
      "Token SL:LOCATION does not have examples\n",
      "Token SL:DESTINATION does not have examples\n",
      "Token SL:DATE_TIME does not have examples\n"
     ]
    }
   ],
   "source": [
    "tiers_final = []\n",
    "\n",
    "for token, _ in all_schema_tokens_sorted:\n",
    "    tier = data[data.schema.str.contains(token)]\n",
    "\n",
    "    for previous_tier in tiers_final:\n",
    "        tier = tier.loc[tier.index.difference(previous_tier.index)]\n",
    "    \n",
    "    if len(tier) == 0:\n",
    "        print(f\"Token {token} does not have examples\")\n",
    "        continue\n",
    "\n",
    "    if len(tier) < 10 and len(tiers_final) > 0:\n",
    "        tiers_final[-1] = pd.concat([tiers_final[-1], tier])\n",
    "        print(f\"Merging the tier for token {token} of size {len(tier)} with the previous tier. Combined tier size {len(tiers_final[-1])}\")\n",
    "        continue\n",
    "\n",
    "    tiers_final.append(tier)\n",
    "\n",
    "assert sum(len(t) for t in tiers_final) == len(data)"
   ]
  },
  {
   "cell_type": "code",
   "execution_count": 15,
   "metadata": {},
   "outputs": [
    {
     "data": {
      "text/plain": [
       "46"
      ]
     },
     "execution_count": 15,
     "metadata": {},
     "output_type": "execute_result"
    }
   ],
   "source": [
    "len(tiers_final)"
   ]
  },
  {
   "cell_type": "code",
   "execution_count": 16,
   "metadata": {},
   "outputs": [
    {
     "data": {
      "text/plain": [
       "[32,\n",
       " 18,\n",
       " 22,\n",
       " 34,\n",
       " 46,\n",
       " 48,\n",
       " 60,\n",
       " 82,\n",
       " 70,\n",
       " 176,\n",
       " 205,\n",
       " 238,\n",
       " 298,\n",
       " 254,\n",
       " 271,\n",
       " 281,\n",
       " 363,\n",
       " 118,\n",
       " 433,\n",
       " 154,\n",
       " 548,\n",
       " 571,\n",
       " 862,\n",
       " 941,\n",
       " 996,\n",
       " 555,\n",
       " 1026,\n",
       " 892,\n",
       " 593,\n",
       " 738,\n",
       " 1511,\n",
       " 575,\n",
       " 1062,\n",
       " 491,\n",
       " 593,\n",
       " 842,\n",
       " 352,\n",
       " 807,\n",
       " 1152,\n",
       " 1046,\n",
       " 358,\n",
       " 476,\n",
       " 443,\n",
       " 3201,\n",
       " 4990,\n",
       " 2455]"
      ]
     },
     "execution_count": 16,
     "metadata": {},
     "output_type": "execute_result"
    }
   ],
   "source": [
    "[len(t) for t in tiers_final]"
   ]
  },
  {
   "cell_type": "markdown",
   "metadata": {},
   "source": [
    "## Create corresponding validation and test sets"
   ]
  },
  {
   "cell_type": "code",
   "execution_count": 46,
   "metadata": {},
   "outputs": [],
   "source": [
    "vocabularies = []\n",
    "validation_tiers = []\n",
    "test_tiers = []\n",
    "\n",
    "tier_schema_vocab_total = set()\n",
    "\n",
    "for tier in tiers_final[::-1]:\n",
    "    tier_schema_vocab = reduce(set.union, map(utils.get_vocab_top_schema, tier.schema))\n",
    "    tier_schema_vocab_total = tier_schema_vocab_total.union(tier_schema_vocab)\n",
    "    vocabularies.append(tier_schema_vocab_total)\n",
    "\n",
    "    validation_subset = validation_data[validation_data.schema.apply(lambda x: utils.get_vocab_top_schema(x).issubset(tier_schema_vocab_total))]\n",
    "    test_subset = test_data[test_data.schema.apply(lambda x: utils.get_vocab_top_schema(x).issubset(tier_schema_vocab_total))]\n",
    "    \n",
    "    validation_tiers.append(validation_subset)\n",
    "    test_tiers.append(test_subset)\n",
    "\n",
    "validation_tiers = validation_tiers[::-1]\n",
    "test_tiers = test_tiers[::-1]"
   ]
  },
  {
   "cell_type": "code",
   "execution_count": 41,
   "metadata": {},
   "outputs": [
    {
     "name": "stdout",
     "output_type": "stream",
     "text": [
      "[4462, 4459, 4456, 4451, 4447, 4444, 4443, 4436, 4430, 4422, 4392, 4366, 4330, 4290, 4265, 4226, 4187, 4144, 4134, 4070, 4044, 3974, 3904, 3782, 3648, 3505, 3424, 3276, 3149, 3078, 2995, 2753, 2678, 2513, 2453, 2342, 2224, 2175, 2048, 1880, 1732, 1683, 1614, 1548, 1066, 344]\n"
     ]
    }
   ],
   "source": [
    "print([len(v) for v in validation_tiers])"
   ]
  },
  {
   "cell_type": "code",
   "execution_count": 42,
   "metadata": {},
   "outputs": [
    {
     "name": "stdout",
     "output_type": "stream",
     "text": [
      "[9042, 9037, 9033, 9029, 9023, 9014, 9007, 8984, 8967, 8938, 8882, 8827, 8760, 8674, 8602, 8530, 8467, 8372, 8343, 8192, 8151, 7993, 7826, 7576, 7312, 7014, 6851, 6573, 6308, 6132, 5909, 5487, 5319, 5037, 4889, 4706, 4472, 4361, 4137, 3771, 3481, 3376, 3225, 3095, 2130, 692]\n"
     ]
    }
   ],
   "source": [
    "print([len(v) for v in test_tiers])"
   ]
  },
  {
   "cell_type": "markdown",
   "metadata": {},
   "source": [
    "## Save all of the data"
   ]
  },
  {
   "cell_type": "code",
   "execution_count": 44,
   "metadata": {},
   "outputs": [],
   "source": [
    "# !rm -rf ../data/top-incremental/"
   ]
  },
  {
   "cell_type": "code",
   "execution_count": 49,
   "metadata": {},
   "outputs": [],
   "source": [
    "for i, (tier_train, tier_val, tier_test, vocab) in enumerate(zip(tiers_final, validation_tiers, test_tiers, vocabularies)):\n",
    "    os.makedirs(f\"../data/top-incremental/batch_{i}\", exist_ok=True)\n",
    "\n",
    "    tier_train.to_csv(f\"../data/top-incremental/batch_{i}/train.csv\", sep=\"\\t\", index=False, header=False)\n",
    "    tier_val.to_csv(f\"../data/top-incremental/batch_{i}/eval.csv\", sep=\"\\t\", index=False, header=False)\n",
    "    tier_test.to_csv(f\"../data/top-incremental/batch_{i}/test.csv\", sep=\"\\t\", index=False, header=False)\n",
    "    \n",
    "    with open(f\"../data/top-incremental/batch_{i}/vocab.txt\", \"w\") as f:\n",
    "        f.write(\"\\n\".join(vocab))"
   ]
  },
  {
   "cell_type": "code",
   "execution_count": null,
   "metadata": {},
   "outputs": [],
   "source": []
  }
 ],
 "metadata": {
  "kernelspec": {
   "display_name": "nsp",
   "language": "python",
   "name": "nsp"
  },
  "language_info": {
   "codemirror_mode": {
    "name": "ipython",
    "version": 3
   },
   "file_extension": ".py",
   "mimetype": "text/x-python",
   "name": "python",
   "nbconvert_exporter": "python",
   "pygments_lexer": "ipython3",
   "version": "3.8.5"
  }
 },
 "nbformat": 4,
 "nbformat_minor": 4
}
