{
 "cells": [
  {
   "cell_type": "code",
   "execution_count": 1,
   "metadata": {},
   "outputs": [],
   "source": [
    "from pprint import pprint\n",
    "\n",
    "import pandas as pd"
   ]
  },
  {
   "cell_type": "code",
   "execution_count": 3,
   "metadata": {},
   "outputs": [],
   "source": [
    "PREFIX = '../data/top-dataset-semantic-parsing/'\n",
    "\n",
    "with open(PREFIX + 'eval.tsv') as f:\n",
    "    data = f.readlines()"
   ]
  },
  {
   "cell_type": "code",
   "execution_count": 4,
   "metadata": {},
   "outputs": [
    {
     "name": "stdout",
     "output_type": "stream",
     "text": [
      "what's to do\twhat 's to do\t[IN:GET_EVENT what 's to do ]\n",
      "\n",
      "What are they best place I could use to book a trip\tWhat are they best place I could use to book a trip\t[IN:UNSUPPORTED What are they best place I could use to book a trip ]\n",
      "\n",
      "Where can we take the kids\tWhere can we take the kids\t[IN:GET_EVENT Where can we take [SL:ATTRIBUTE_EVENT the kids ] ]\n",
      "\n",
      "Any festivals this weekend\tAny festivals this weekend\t[IN:GET_EVENT Any [SL:CATEGORY_EVENT festivals ] [SL:DATE_TIME this weekend ] ]\n",
      "\n",
      "Are there any Christmas parties this weekend\tAre there any Christmas parties this weekend\t[IN:GET_EVENT Are there any [SL:DATE_TIME Christmas ] [SL:CATEGORY_EVENT parties ] [SL:DATE_TIME this weekend ] ]\n",
      "\n",
      "I need a restaurant that seems classy but is really cheap that is also downtown Manhattan but doesn't require dinner time reservations\tI need a restaurant that seems classy but is really cheap that is also downtown Manhattan but doesn't require dinner time reservations\t[IN:UNSUPPORTED I need a restaurant that seems classy but is really cheap that is also downtown Manhattan but doesn't require dinner time reservations ]\n",
      "\n",
      "Any live music events on friday\tAny live music events on friday\t[IN:GET_EVENT Any [SL:CATEGORY_EVENT live music events ] [SL:DATE_TIME on friday ] ]\n",
      "\n",
      "concerts by sia\tconcerts by sia\t[IN:GET_EVENT [SL:CATEGORY_EVENT concerts ] by [SL:NAME_EVENT sia ] ]\n",
      "\n",
      "when is the next showing of the nutcracker\twhen is the next showing of the nutcracker\t[IN:GET_EVENT when is the [SL:ORDINAL next ] [SL:CATEGORY_EVENT showing of the nutcracker ] ]\n",
      "\n",
      "What is going on right now\tWhat is going on right now\t[IN:GET_EVENT What is going on [SL:DATE_TIME right now ] ]\n",
      "\n"
     ]
    }
   ],
   "source": [
    "for line in data[:10]:\n",
    "    print(line)"
   ]
  },
  {
   "cell_type": "code",
   "execution_count": 5,
   "metadata": {},
   "outputs": [],
   "source": [
    "data = pd.read_table(PREFIX + 'train.tsv', names=['text', 'tokens', 'schema'])"
   ]
  },
  {
   "cell_type": "code",
   "execution_count": 6,
   "metadata": {},
   "outputs": [
    {
     "data": {
      "text/html": [
       "<div>\n",
       "<style scoped>\n",
       "    .dataframe tbody tr th:only-of-type {\n",
       "        vertical-align: middle;\n",
       "    }\n",
       "\n",
       "    .dataframe tbody tr th {\n",
       "        vertical-align: top;\n",
       "    }\n",
       "\n",
       "    .dataframe thead th {\n",
       "        text-align: right;\n",
       "    }\n",
       "</style>\n",
       "<table border=\"1\" class=\"dataframe\">\n",
       "  <thead>\n",
       "    <tr style=\"text-align: right;\">\n",
       "      <th></th>\n",
       "      <th>text</th>\n",
       "      <th>tokens</th>\n",
       "      <th>schema</th>\n",
       "    </tr>\n",
       "  </thead>\n",
       "  <tbody>\n",
       "    <tr>\n",
       "      <th>0</th>\n",
       "      <td>How long will it take to drive from Chicago to...</td>\n",
       "      <td>How long will it take to drive from Chicago to...</td>\n",
       "      <td>[IN:GET_ESTIMATED_DURATION How long will it ta...</td>\n",
       "    </tr>\n",
       "    <tr>\n",
       "      <th>1</th>\n",
       "      <td>Will it take shorter to get to the White House...</td>\n",
       "      <td>Will it take shorter to get to the White House...</td>\n",
       "      <td>[IN:UNSUPPORTED_NAVIGATION Will it take shorte...</td>\n",
       "    </tr>\n",
       "    <tr>\n",
       "      <th>2</th>\n",
       "      <td>will I make it to the beach by noon if I leave...</td>\n",
       "      <td>will I make it to the beach by noon if I leave...</td>\n",
       "      <td>[IN:GET_ESTIMATED_ARRIVAL will I make it to [S...</td>\n",
       "    </tr>\n",
       "    <tr>\n",
       "      <th>3</th>\n",
       "      <td>When should I leave my house to get to the Ham...</td>\n",
       "      <td>When should I leave my house to get to the Ham...</td>\n",
       "      <td>[IN:GET_ESTIMATED_DEPARTURE When should I leav...</td>\n",
       "    </tr>\n",
       "    <tr>\n",
       "      <th>4</th>\n",
       "      <td>I need to know if there's a lot of traffic on ...</td>\n",
       "      <td>I need to know if there 's a lot of traffic on...</td>\n",
       "      <td>[IN:GET_INFO_TRAFFIC I need to know if there '...</td>\n",
       "    </tr>\n",
       "    <tr>\n",
       "      <th>5</th>\n",
       "      <td>What is the shortest way home</td>\n",
       "      <td>What is the shortest way home</td>\n",
       "      <td>[IN:GET_DIRECTIONS What is the shortest way [S...</td>\n",
       "    </tr>\n",
       "    <tr>\n",
       "      <th>6</th>\n",
       "      <td>how long will it take me to drive to fort collins</td>\n",
       "      <td>how long will it take me to drive to fort collins</td>\n",
       "      <td>[IN:GET_ESTIMATED_DURATION how long will it ta...</td>\n",
       "    </tr>\n",
       "    <tr>\n",
       "      <th>7</th>\n",
       "      <td>how long would it take to ride a bus to jeddah...</td>\n",
       "      <td>how long would it take to ride a bus to jeddah...</td>\n",
       "      <td>[IN:GET_ESTIMATED_DURATION how long would it t...</td>\n",
       "    </tr>\n",
       "    <tr>\n",
       "      <th>8</th>\n",
       "      <td>Can you tell me what is happening at Liberty S...</td>\n",
       "      <td>Can you tell me what is happening at Liberty S...</td>\n",
       "      <td>[IN:GET_EVENT Can you tell me what is happenin...</td>\n",
       "    </tr>\n",
       "    <tr>\n",
       "      <th>9</th>\n",
       "      <td>traffic to Midway Airport</td>\n",
       "      <td>traffic to Midway Airport</td>\n",
       "      <td>[IN:GET_INFO_TRAFFIC traffic to [SL:DESTINATIO...</td>\n",
       "    </tr>\n",
       "  </tbody>\n",
       "</table>\n",
       "</div>"
      ],
      "text/plain": [
       "                                                text  \\\n",
       "0  How long will it take to drive from Chicago to...   \n",
       "1  Will it take shorter to get to the White House...   \n",
       "2  will I make it to the beach by noon if I leave...   \n",
       "3  When should I leave my house to get to the Ham...   \n",
       "4  I need to know if there's a lot of traffic on ...   \n",
       "5                      What is the shortest way home   \n",
       "6  how long will it take me to drive to fort collins   \n",
       "7  how long would it take to ride a bus to jeddah...   \n",
       "8  Can you tell me what is happening at Liberty S...   \n",
       "9                          traffic to Midway Airport   \n",
       "\n",
       "                                              tokens  \\\n",
       "0  How long will it take to drive from Chicago to...   \n",
       "1  Will it take shorter to get to the White House...   \n",
       "2  will I make it to the beach by noon if I leave...   \n",
       "3  When should I leave my house to get to the Ham...   \n",
       "4  I need to know if there 's a lot of traffic on...   \n",
       "5                      What is the shortest way home   \n",
       "6  how long will it take me to drive to fort collins   \n",
       "7  how long would it take to ride a bus to jeddah...   \n",
       "8  Can you tell me what is happening at Liberty S...   \n",
       "9                          traffic to Midway Airport   \n",
       "\n",
       "                                              schema  \n",
       "0  [IN:GET_ESTIMATED_DURATION How long will it ta...  \n",
       "1  [IN:UNSUPPORTED_NAVIGATION Will it take shorte...  \n",
       "2  [IN:GET_ESTIMATED_ARRIVAL will I make it to [S...  \n",
       "3  [IN:GET_ESTIMATED_DEPARTURE When should I leav...  \n",
       "4  [IN:GET_INFO_TRAFFIC I need to know if there '...  \n",
       "5  [IN:GET_DIRECTIONS What is the shortest way [S...  \n",
       "6  [IN:GET_ESTIMATED_DURATION how long will it ta...  \n",
       "7  [IN:GET_ESTIMATED_DURATION how long would it t...  \n",
       "8  [IN:GET_EVENT Can you tell me what is happenin...  \n",
       "9  [IN:GET_INFO_TRAFFIC traffic to [SL:DESTINATIO...  "
      ]
     },
     "execution_count": 6,
     "metadata": {},
     "output_type": "execute_result"
    }
   ],
   "source": [
    "data.head(10)"
   ]
  },
  {
   "cell_type": "markdown",
   "metadata": {},
   "source": [
    "# Schema Tokenizer"
   ]
  },
  {
   "cell_type": "code",
   "execution_count": 7,
   "metadata": {},
   "outputs": [
    {
     "data": {
      "text/plain": [
       "'[IN:GET_ESTIMATED_DEPARTURE When should I leave [SL:SOURCE [IN:GET_LOCATION_HOME [SL:CONTACT my ] house ] ] to get to [SL:DESTINATION [IN:GET_LOCATION [SL:POINT_ON_MAP the Hamilton Mall ] ] ] [SL:DATE_TIME_ARRIVAL right when it opens on Saturday ] ]'"
      ]
     },
     "execution_count": 7,
     "metadata": {},
     "output_type": "execute_result"
    }
   ],
   "source": [
    "data.schema.iloc[3]"
   ]
  },
  {
   "cell_type": "markdown",
   "metadata": {},
   "source": [
    "**NOTE:** We probably need to replace this tokenizer with something faster"
   ]
  },
  {
   "cell_type": "code",
   "execution_count": 42,
   "metadata": {},
   "outputs": [],
   "source": [
    "def top_schema_tokenize(text):\n",
    "    tokenized = ''\n",
    "    for char in text:\n",
    "        if char in ['[', ']']:\n",
    "            char = ' ' + char + ' '\n",
    "        if char in [':']:\n",
    "            char = char + ' '\n",
    "        tokenized += char\n",
    "    tokens = tokenized.strip(' ').split(' ')\n",
    "    tokens = [t for t in tokens if t != '']\n",
    "    return tokens"
   ]
  },
  {
   "cell_type": "code",
   "execution_count": 9,
   "metadata": {},
   "outputs": [
    {
     "data": {
      "text/plain": [
       "'[IN:GET_DIRECTIONS Directions from [SL:SOURCE Chicago ] to [SL:DESTINATION New York City ] . ]'"
      ]
     },
     "execution_count": 9,
     "metadata": {},
     "output_type": "execute_result"
    }
   ],
   "source": [
    "data.schema.iloc[4457]"
   ]
  },
  {
   "cell_type": "code",
   "execution_count": 10,
   "metadata": {},
   "outputs": [
    {
     "name": "stdout",
     "output_type": "stream",
     "text": [
      "4457 [ IN: GET_DIRECTIONS Directions from [ SL: SOURCE Chicago ] to [ SL: DESTINATION New York City ] . ] \n",
      "\n",
      "4458 [ IN: GET_ESTIMATED_DURATION how long will it take to get to [ SL: DESTINATION [ IN: GET_LOCATION [ SL: CATEGORY_LOCATION mall ] ] ] ] \n",
      "\n",
      "4459 [ IN: GET_INFO_TRAFFIC closed roads in [ SL: LOCATION sarasota ] ] \n",
      "\n",
      "4460 [ IN: GET_EVENT [ SL: CATEGORY_EVENT cooking demonstrations ] at [ SL: LOCATION [ IN: GET_LOCATION [ SL: POINT_ON_MAP Culinard ] ] ] ] \n",
      "\n"
     ]
    }
   ],
   "source": [
    "for i in range(4457, 4461):\n",
    "    print(i, ' '.join(tokenize_schema(data.schema.iloc[i])), '\\n')"
   ]
  },
  {
   "cell_type": "markdown",
   "metadata": {},
   "source": [
    "# Schema Vocabulary"
   ]
  },
  {
   "cell_type": "code",
   "execution_count": 11,
   "metadata": {},
   "outputs": [],
   "source": [
    "def top_schema_get_vocab(text):\n",
    "    text = text.replace('[', '')\n",
    "    text = text.replace(']', '')\n",
    "\n",
    "    schema_tokens = {'[', ']', 'IN:', 'SL:'}\n",
    "\n",
    "    for token in text.split(' '):\n",
    "        if token[:3] in ['IN:', 'SL:']:\n",
    "            schema_tokens.add(token[3:])\n",
    "    return schema_tokens\n"
   ]
  },
  {
   "cell_type": "code",
   "execution_count": 12,
   "metadata": {},
   "outputs": [
    {
     "data": {
      "text/plain": [
       "'[IN:GET_DIRECTIONS Directions from [SL:SOURCE Chicago ] to [SL:DESTINATION New York City ] . ]'"
      ]
     },
     "execution_count": 12,
     "metadata": {},
     "output_type": "execute_result"
    }
   ],
   "source": [
    "data.schema.iloc[4457]"
   ]
  },
  {
   "cell_type": "code",
   "execution_count": 13,
   "metadata": {},
   "outputs": [
    {
     "data": {
      "text/plain": [
       "{'DESTINATION', 'GET_DIRECTIONS', 'IN:', 'SL:', 'SOURCE', '[', ']'}"
      ]
     },
     "execution_count": 13,
     "metadata": {},
     "output_type": "execute_result"
    }
   ],
   "source": [
    "top_schema_get_vocab(data.schema.iloc[4457])"
   ]
  },
  {
   "cell_type": "code",
   "execution_count": 14,
   "metadata": {},
   "outputs": [],
   "source": [
    "vocab = set()\n",
    "\n",
    "for i, line in data.iterrows():\n",
    "    _vocab = top_schema_get_vocab(line.schema)\n",
    "    vocab = vocab.union(_vocab)"
   ]
  },
  {
   "cell_type": "markdown",
   "metadata": {},
   "source": [
    "from TOP README:\n",
    "    \n",
    "We collected a total of 44783 annotations with 25 intents and 36 slots, randomly split into 31279 training, 4462 validation and 9042 test utterances.\n"
   ]
  },
  {
   "cell_type": "code",
   "execution_count": 15,
   "metadata": {},
   "outputs": [
    {
     "data": {
      "text/plain": [
       "65"
      ]
     },
     "execution_count": 15,
     "metadata": {},
     "output_type": "execute_result"
    }
   ],
   "source": [
    "25 + 36 + 4"
   ]
  },
  {
   "cell_type": "code",
   "execution_count": 16,
   "metadata": {},
   "outputs": [
    {
     "data": {
      "text/plain": [
       "64"
      ]
     },
     "execution_count": 16,
     "metadata": {},
     "output_type": "execute_result"
    }
   ],
   "source": [
    "len(vocab)  # 'IN:COMBINE' and 'SL:COMBINE' collapse to a single token"
   ]
  },
  {
   "cell_type": "code",
   "execution_count": 17,
   "metadata": {
    "collapsed": true,
    "jupyter": {
     "outputs_hidden": true
    }
   },
   "outputs": [
    {
     "data": {
      "text/plain": [
       "{'AMOUNT',\n",
       " 'ATTENDEE_EVENT',\n",
       " 'ATTRIBUTE_EVENT',\n",
       " 'CATEGORY_EVENT',\n",
       " 'CATEGORY_LOCATION',\n",
       " 'COMBINE',\n",
       " 'CONTACT',\n",
       " 'CONTACT_RELATED',\n",
       " 'DATE_TIME',\n",
       " 'DATE_TIME_ARRIVAL',\n",
       " 'DATE_TIME_DEPARTURE',\n",
       " 'DESTINATION',\n",
       " 'GET_CONTACT',\n",
       " 'GET_DIRECTIONS',\n",
       " 'GET_DISTANCE',\n",
       " 'GET_ESTIMATED_ARRIVAL',\n",
       " 'GET_ESTIMATED_DEPARTURE',\n",
       " 'GET_ESTIMATED_DURATION',\n",
       " 'GET_EVENT',\n",
       " 'GET_EVENT_ATTENDEE',\n",
       " 'GET_EVENT_ATTENDEE_AMOUNT',\n",
       " 'GET_EVENT_ORGANIZER',\n",
       " 'GET_INFO_ROAD_CONDITION',\n",
       " 'GET_INFO_ROUTE',\n",
       " 'GET_INFO_TRAFFIC',\n",
       " 'GET_LOCATION',\n",
       " 'GET_LOCATION_HOME',\n",
       " 'GET_LOCATION_HOMETOWN',\n",
       " 'GET_LOCATION_SCHOOL',\n",
       " 'GET_LOCATION_WORK',\n",
       " 'GROUP',\n",
       " 'IN:',\n",
       " 'LOCATION',\n",
       " 'LOCATION_CURRENT',\n",
       " 'LOCATION_MODIFIER',\n",
       " 'LOCATION_USER',\n",
       " 'LOCATION_WORK',\n",
       " 'METHOD_TRAVEL',\n",
       " 'NAME_EVENT',\n",
       " 'NEGATION',\n",
       " 'OBSTRUCTION',\n",
       " 'OBSTRUCTION_AVOID',\n",
       " 'ORDINAL',\n",
       " 'ORGANIZER_EVENT',\n",
       " 'PATH',\n",
       " 'PATH_AVOID',\n",
       " 'POINT_ON_MAP',\n",
       " 'ROAD_CONDITION',\n",
       " 'ROAD_CONDITION_AVOID',\n",
       " 'SEARCH_RADIUS',\n",
       " 'SL:',\n",
       " 'SOURCE',\n",
       " 'TYPE_RELATION',\n",
       " 'UNINTELLIGIBLE',\n",
       " 'UNIT_DISTANCE',\n",
       " 'UNSUPPORTED',\n",
       " 'UNSUPPORTED_EVENT',\n",
       " 'UNSUPPORTED_NAVIGATION',\n",
       " 'UPDATE_DIRECTIONS',\n",
       " 'WAYPOINT',\n",
       " 'WAYPOINT_ADDED',\n",
       " 'WAYPOINT_AVOID',\n",
       " '[',\n",
       " ']'}"
      ]
     },
     "execution_count": 17,
     "metadata": {},
     "output_type": "execute_result"
    }
   ],
   "source": [
    "vocab"
   ]
  },
  {
   "cell_type": "markdown",
   "metadata": {},
   "source": [
    "Full vocab here:"
   ]
  },
  {
   "cell_type": "code",
   "execution_count": 18,
   "metadata": {},
   "outputs": [],
   "source": [
    "full_vocab_with_prefixes = {'IN:',\n",
    "'IN:COMBINE',\n",
    " 'IN:GET_CONTACT',\n",
    " 'IN:GET_DIRECTIONS',\n",
    " 'IN:GET_DISTANCE',\n",
    " 'IN:GET_ESTIMATED_ARRIVAL',\n",
    " 'IN:GET_ESTIMATED_DEPARTURE',\n",
    " 'IN:GET_ESTIMATED_DURATION',\n",
    " 'IN:GET_EVENT',\n",
    " 'IN:GET_EVENT_ATTENDEE',\n",
    " 'IN:GET_EVENT_ATTENDEE_AMOUNT',\n",
    " 'IN:GET_EVENT_ORGANIZER',\n",
    " 'IN:GET_INFO_ROAD_CONDITION',\n",
    " 'IN:GET_INFO_ROUTE',\n",
    " 'IN:GET_INFO_TRAFFIC',\n",
    " 'IN:GET_LOCATION',\n",
    " 'IN:GET_LOCATION_HOME',\n",
    " 'IN:GET_LOCATION_HOMETOWN',\n",
    " 'IN:GET_LOCATION_SCHOOL',\n",
    " 'IN:GET_LOCATION_WORK',\n",
    " 'IN:NEGATION',\n",
    " 'IN:UNINTELLIGIBLE',\n",
    " 'IN:UNSUPPORTED',\n",
    " 'IN:UNSUPPORTED_EVENT',\n",
    " 'IN:UNSUPPORTED_NAVIGATION',\n",
    " 'IN:UPDATE_DIRECTIONS',\n",
    " 'SL:',\n",
    " 'SL:AMOUNT',\n",
    " 'SL:ATTENDEE_EVENT',\n",
    " 'SL:ATTRIBUTE_EVENT',\n",
    " 'SL:CATEGORY_EVENT',\n",
    " 'SL:CATEGORY_LOCATION',\n",
    " 'SL:COMBINE',\n",
    " 'SL:CONTACT',\n",
    " 'SL:CONTACT_RELATED',\n",
    " 'SL:DATE_TIME',\n",
    " 'SL:DATE_TIME_ARRIVAL',\n",
    " 'SL:DATE_TIME_DEPARTURE',\n",
    " 'SL:DESTINATION',\n",
    " 'SL:GROUP',\n",
    " 'SL:LOCATION',\n",
    " 'SL:LOCATION_CURRENT',\n",
    " 'SL:LOCATION_MODIFIER',\n",
    " 'SL:LOCATION_USER',\n",
    " 'SL:LOCATION_WORK',\n",
    " 'SL:METHOD_TRAVEL',\n",
    " 'SL:NAME_EVENT',\n",
    " 'SL:OBSTRUCTION',\n",
    " 'SL:OBSTRUCTION_AVOID',\n",
    " 'SL:ORDINAL',\n",
    " 'SL:ORGANIZER_EVENT',\n",
    " 'SL:PATH',\n",
    " 'SL:PATH_AVOID',\n",
    " 'SL:POINT_ON_MAP',\n",
    " 'SL:ROAD_CONDITION',\n",
    " 'SL:ROAD_CONDITION_AVOID',\n",
    " 'SL:SEARCH_RADIUS',\n",
    " 'SL:SOURCE',\n",
    " 'SL:TYPE_RELATION',\n",
    " 'SL:UNIT_DISTANCE',\n",
    " 'SL:WAYPOINT',\n",
    " 'SL:WAYPOINT_ADDED',\n",
    " 'SL:WAYPOINT_AVOID',\n",
    " '[',\n",
    " ']'}"
   ]
  },
  {
   "cell_type": "markdown",
   "metadata": {},
   "source": [
    "# Numericalizer"
   ]
  },
  {
   "cell_type": "code",
   "execution_count": 47,
   "metadata": {},
   "outputs": [],
   "source": [
    "class SchemaTokenizer:\n",
    "    def __init__(self, tokenizer_fn, vocab):\n",
    "        self._vocab = vocab\n",
    "        self.itos = list(vocab)\n",
    "        self.stoi = {s: i for i, s in enumerate(self.itos)}\n",
    "\n",
    "    def encode(self, schema_text, source_tokens, max_length=None, pad_to_max_length=False):\n",
    "        tokens = self.tokenizer_fn(text)\n",
    "\n",
    "        if max_length is not None:\n",
    "            tokens = tokens[:max_length]\n",
    "        \n",
    "        delta = max_length - len(tokens)\n",
    "        if pad_to_max_length and delta > 0:\n",
    "            tokens += [self.pad_token] * delta\n",
    "\n",
    "        return tokens\n",
    "\n",
    "#     def convert_tokens_to_ids(self, tokens):\n",
    "#         ids = "
   ]
  },
  {
   "cell_type": "code",
   "execution_count": 21,
   "metadata": {},
   "outputs": [],
   "source": [
    "import transformers\n",
    "\n",
    "ENCODER_NAME = 'distilbert-base-uncased'"
   ]
  },
  {
   "cell_type": "code",
   "execution_count": 22,
   "metadata": {},
   "outputs": [],
   "source": [
    "tokenizer = transformers.AutoTokenizer.from_pretrained(ENCODER_NAME, use_fast=True)"
   ]
  },
  {
   "cell_type": "code",
   "execution_count": 24,
   "metadata": {},
   "outputs": [
    {
     "data": {
      "text/plain": [
       "'When should I leave my house to get to the Hamilton Mall right when it opens on Saturday'"
      ]
     },
     "execution_count": 24,
     "metadata": {},
     "output_type": "execute_result"
    }
   ],
   "source": [
    "data.iloc[3].tokens"
   ]
  },
  {
   "cell_type": "code",
   "execution_count": 35,
   "metadata": {},
   "outputs": [
    {
     "data": {
      "text/plain": [
       "'[PAD]'"
      ]
     },
     "execution_count": 35,
     "metadata": {},
     "output_type": "execute_result"
    }
   ],
   "source": [
    "tokenizer.pad_token"
   ]
  },
  {
   "cell_type": "code",
   "execution_count": 27,
   "metadata": {},
   "outputs": [
    {
     "name": "stdout",
     "output_type": "stream",
     "text": [
      "[101, 2043, 2323, 1045, 2681, 2026, 2160, 2000, 2131, 2000, 1996, 5226, 6670, 2157, 2043, 2009, 7480, 2006, 5095, 102]\n"
     ]
    }
   ],
   "source": [
    "e = tokenizer.encode(data.iloc[3].tokens)\n",
    "print(e)"
   ]
  },
  {
   "cell_type": "code",
   "execution_count": null,
   "metadata": {},
   "outputs": [],
   "source": [
    "# tokenizers example: BertWordPieceTokenizer(\"bert-base-uncased-vocab.txt\", lowercase=True)"
   ]
  },
  {
   "cell_type": "code",
   "execution_count": 34,
   "metadata": {},
   "outputs": [
    {
     "data": {
      "text/plain": [
       "'[IN:GET_ESTIMATED_DEPARTURE When should I leave [SL:SOURCE [IN:GET_LOCATION_HOME [SL:CONTACT my ] house ] ] to get to [SL:DESTINATION [IN:GET_LOCATION [SL:POINT_ON_MAP the Hamilton Mall ] ] ] [SL:DATE_TIME_ARRIVAL right when it opens on Saturday ] ]'"
      ]
     },
     "execution_count": 34,
     "metadata": {},
     "output_type": "execute_result"
    }
   ],
   "source": [
    "data.iloc[3].schema"
   ]
  },
  {
   "cell_type": "code",
   "execution_count": 65,
   "metadata": {},
   "outputs": [
    {
     "name": "stdout",
     "output_type": "stream",
     "text": [
      "When should I leave my house to get to the Hamilton Mall right when it opens on Saturday\n",
      "[IN:GET_ESTIMATED_DEPARTURE When should I leave [SL:SOURCE [IN:GET_LOCATION_HOME [SL:CONTACT my ] house ] ] to get to [SL:DESTINATION [IN:GET_LOCATION [SL:POINT_ON_MAP the Hamilton Mall ] ] ] [SL:DATE_TIME_ARRIVAL right when it opens on Saturday ] ]\n"
     ]
    }
   ],
   "source": [
    "_src_text = data.iloc[3].tokens\n",
    "print(_src_text)\n",
    "_schema = data.iloc[3].schema\n",
    "print(_schema)"
   ]
  },
  {
   "cell_type": "code",
   "execution_count": 68,
   "metadata": {},
   "outputs": [
    {
     "name": "stdout",
     "output_type": "stream",
     "text": [
      "[101, 2043, 2323, 1045, 2681, 2026, 2160, 2000, 2131, 2000, 1996, 5226, 6670, 2157, 2043, 2009, 7480, 2006, 5095, 102]\n"
     ]
    }
   ],
   "source": [
    "src_tokens = tokenizer.encode(_src_text)\n",
    "print(src_tokens)"
   ]
  },
  {
   "cell_type": "code",
   "execution_count": 67,
   "metadata": {},
   "outputs": [
    {
     "name": "stdout",
     "output_type": "stream",
     "text": [
      "['[', 'IN:', 'GET_ESTIMATED_DEPARTURE', 'When', 'should', 'I', 'leave', '[', 'SL:', 'SOURCE', '[', 'IN:', 'GET_LOCATION_HOME', '[', 'SL:', 'CONTACT', 'my', ']', 'house', ']', ']', 'to', 'get', 'to', '[', 'SL:', 'DESTINATION', '[', 'IN:', 'GET_LOCATION', '[', 'SL:', 'POINT_ON_MAP', 'the', 'Hamilton', 'Mall', ']', ']', ']', '[', 'SL:', 'DATE_TIME_ARRIVAL', 'right', 'when', 'it', 'opens', 'on', 'Saturday', ']', ']']\n"
     ]
    }
   ],
   "source": [
    "schema_tok = top_schema_tokenize(_schema)\n",
    "print(schema_tok)"
   ]
  },
  {
   "cell_type": "code",
   "execution_count": 69,
   "metadata": {},
   "outputs": [],
   "source": [
    "itos = list(vocab)\n",
    "stoi = {s: i for i, s in enumerate(itos)}"
   ]
  },
  {
   "cell_type": "code",
   "execution_count": 77,
   "metadata": {},
   "outputs": [
    {
     "name": "stdout",
     "output_type": "stream",
     "text": [
      "[16, 48, 56, 1001, 1002, 1003, 1004, 16, 20, 47, 16, 48, 63, 16, 20, 32, 1005, 49, 1006, 49, 49, 1007, 1008, 1009, 16, 20, 45, 16, 48, 43, 16, 20, 8, 1010, 1011, 1012, 49, 49, 49, 16, 20, 31, 1013, 1014, 1015, 1016, 1017, 1018, 49, 49]\n"
     ]
    }
   ],
   "source": [
    "NOT_VOCAB_LEN = 1000\n",
    "\n",
    "schema_ids = []\n",
    "src_tokens_pointer = 1  # first token is [CLS]\n",
    "\n",
    "for token in schema_tok:\n",
    "    if token in vocab:\n",
    "        schema_ids.append(stoi[token])\n",
    "        continue\n",
    "    subtokens = tokenizer.encode(token, add_special_tokens=False)\n",
    "    \n",
    "    for subtoken in subtokens:\n",
    "        assert subtoken == src_tokens[src_tokens_pointer]\n",
    "        schema_ids.append(NOT_VOCAB_LEN + src_tokens_pointer)\n",
    "        src_tokens_pointer += 1\n",
    "\n",
    "print(schema_ids)"
   ]
  },
  {
   "cell_type": "code",
   "execution_count": null,
   "metadata": {},
   "outputs": [],
   "source": []
  },
  {
   "cell_type": "markdown",
   "metadata": {},
   "source": [
    "The final tokenizer can be found in `new_semantic_parsing.schema_tokenizer.TopSchemaTokenizer`"
   ]
  },
  {
   "cell_type": "code",
   "execution_count": null,
   "metadata": {},
   "outputs": [],
   "source": []
  }
 ],
 "metadata": {
  "kernelspec": {
   "display_name": "Python 3",
   "language": "python",
   "name": "python3"
  },
  "language_info": {
   "codemirror_mode": {
    "name": "ipython",
    "version": 3
   },
   "file_extension": ".py",
   "mimetype": "text/x-python",
   "name": "python",
   "nbconvert_exporter": "python",
   "pygments_lexer": "ipython3",
   "version": "3.7.6"
  }
 },
 "nbformat": 4,
 "nbformat_minor": 4
}
