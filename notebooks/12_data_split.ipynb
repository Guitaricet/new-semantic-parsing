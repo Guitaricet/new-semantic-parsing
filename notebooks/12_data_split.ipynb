{
 "cells": [
  {
   "cell_type": "markdown",
   "metadata": {},
   "source": [
    "IN:GET_LOCATION is the second most frequent intent. Split data such that 80% of this intent will be in a different subset."
   ]
  },
  {
   "cell_type": "code",
   "execution_count": 2,
   "metadata": {},
   "outputs": [],
   "source": [
    "import pandas as pd"
   ]
  },
  {
   "cell_type": "code",
   "execution_count": 13,
   "metadata": {},
   "outputs": [
    {
     "data": {
      "text/html": [
       "<div>\n",
       "<style scoped>\n",
       "    .dataframe tbody tr th:only-of-type {\n",
       "        vertical-align: middle;\n",
       "    }\n",
       "\n",
       "    .dataframe tbody tr th {\n",
       "        vertical-align: top;\n",
       "    }\n",
       "\n",
       "    .dataframe thead th {\n",
       "        text-align: right;\n",
       "    }\n",
       "</style>\n",
       "<table border=\"1\" class=\"dataframe\">\n",
       "  <thead>\n",
       "    <tr style=\"text-align: right;\">\n",
       "      <th></th>\n",
       "      <th>text</th>\n",
       "      <th>tokens</th>\n",
       "      <th>schema</th>\n",
       "    </tr>\n",
       "  </thead>\n",
       "  <tbody>\n",
       "    <tr>\n",
       "      <th>0</th>\n",
       "      <td>How long will it take to drive from Chicago to...</td>\n",
       "      <td>How long will it take to drive from Chicago to...</td>\n",
       "      <td>[IN:GET_ESTIMATED_DURATION How long will it ta...</td>\n",
       "    </tr>\n",
       "    <tr>\n",
       "      <th>1</th>\n",
       "      <td>Will it take shorter to get to the White House...</td>\n",
       "      <td>Will it take shorter to get to the White House...</td>\n",
       "      <td>[IN:UNSUPPORTED_NAVIGATION Will it take shorte...</td>\n",
       "    </tr>\n",
       "    <tr>\n",
       "      <th>2</th>\n",
       "      <td>will I make it to the beach by noon if I leave...</td>\n",
       "      <td>will I make it to the beach by noon if I leave...</td>\n",
       "      <td>[IN:GET_ESTIMATED_ARRIVAL will I make it to [S...</td>\n",
       "    </tr>\n",
       "    <tr>\n",
       "      <th>3</th>\n",
       "      <td>When should I leave my house to get to the Ham...</td>\n",
       "      <td>When should I leave my house to get to the Ham...</td>\n",
       "      <td>[IN:GET_ESTIMATED_DEPARTURE When should I leav...</td>\n",
       "    </tr>\n",
       "    <tr>\n",
       "      <th>4</th>\n",
       "      <td>I need to know if there's a lot of traffic on ...</td>\n",
       "      <td>I need to know if there 's a lot of traffic on...</td>\n",
       "      <td>[IN:GET_INFO_TRAFFIC I need to know if there '...</td>\n",
       "    </tr>\n",
       "    <tr>\n",
       "      <th>...</th>\n",
       "      <td>...</td>\n",
       "      <td>...</td>\n",
       "      <td>...</td>\n",
       "    </tr>\n",
       "    <tr>\n",
       "      <th>31274</th>\n",
       "      <td>current traffic at border</td>\n",
       "      <td>current traffic at border</td>\n",
       "      <td>[IN:GET_INFO_TRAFFIC current traffic at [SL:LO...</td>\n",
       "    </tr>\n",
       "    <tr>\n",
       "      <th>31275</th>\n",
       "      <td>Fastest route to wax museum in San Francisco</td>\n",
       "      <td>Fastest route to wax museum in San Francisco</td>\n",
       "      <td>[IN:GET_DIRECTIONS Fastest route to [SL:DESTIN...</td>\n",
       "    </tr>\n",
       "    <tr>\n",
       "      <th>31276</th>\n",
       "      <td>any christmas shows</td>\n",
       "      <td>any christmas shows</td>\n",
       "      <td>[IN:GET_EVENT any [SL:DATE_TIME christmas ] [S...</td>\n",
       "    </tr>\n",
       "    <tr>\n",
       "      <th>31277</th>\n",
       "      <td>Road conditions updates</td>\n",
       "      <td>Road conditions updates</td>\n",
       "      <td>[IN:GET_INFO_ROAD_CONDITION Road conditions up...</td>\n",
       "    </tr>\n",
       "    <tr>\n",
       "      <th>31278</th>\n",
       "      <td>What's the traffic from Flint to Detroit</td>\n",
       "      <td>What 's the traffic from Flint to Detroit</td>\n",
       "      <td>[IN:GET_INFO_TRAFFIC What 's the traffic from ...</td>\n",
       "    </tr>\n",
       "  </tbody>\n",
       "</table>\n",
       "<p>31279 rows × 3 columns</p>\n",
       "</div>"
      ],
      "text/plain": [
       "                                                    text  \\\n",
       "0      How long will it take to drive from Chicago to...   \n",
       "1      Will it take shorter to get to the White House...   \n",
       "2      will I make it to the beach by noon if I leave...   \n",
       "3      When should I leave my house to get to the Ham...   \n",
       "4      I need to know if there's a lot of traffic on ...   \n",
       "...                                                  ...   \n",
       "31274                          current traffic at border   \n",
       "31275       Fastest route to wax museum in San Francisco   \n",
       "31276                                any christmas shows   \n",
       "31277                            Road conditions updates   \n",
       "31278           What's the traffic from Flint to Detroit   \n",
       "\n",
       "                                                  tokens  \\\n",
       "0      How long will it take to drive from Chicago to...   \n",
       "1      Will it take shorter to get to the White House...   \n",
       "2      will I make it to the beach by noon if I leave...   \n",
       "3      When should I leave my house to get to the Ham...   \n",
       "4      I need to know if there 's a lot of traffic on...   \n",
       "...                                                  ...   \n",
       "31274                          current traffic at border   \n",
       "31275       Fastest route to wax museum in San Francisco   \n",
       "31276                                any christmas shows   \n",
       "31277                            Road conditions updates   \n",
       "31278          What 's the traffic from Flint to Detroit   \n",
       "\n",
       "                                                  schema  \n",
       "0      [IN:GET_ESTIMATED_DURATION How long will it ta...  \n",
       "1      [IN:UNSUPPORTED_NAVIGATION Will it take shorte...  \n",
       "2      [IN:GET_ESTIMATED_ARRIVAL will I make it to [S...  \n",
       "3      [IN:GET_ESTIMATED_DEPARTURE When should I leav...  \n",
       "4      [IN:GET_INFO_TRAFFIC I need to know if there '...  \n",
       "...                                                  ...  \n",
       "31274  [IN:GET_INFO_TRAFFIC current traffic at [SL:LO...  \n",
       "31275  [IN:GET_DIRECTIONS Fastest route to [SL:DESTIN...  \n",
       "31276  [IN:GET_EVENT any [SL:DATE_TIME christmas ] [S...  \n",
       "31277  [IN:GET_INFO_ROAD_CONDITION Road conditions up...  \n",
       "31278  [IN:GET_INFO_TRAFFIC What 's the traffic from ...  \n",
       "\n",
       "[31279 rows x 3 columns]"
      ]
     },
     "execution_count": 13,
     "metadata": {},
     "output_type": "execute_result"
    }
   ],
   "source": [
    "data = pd.read_table('../data/top-dataset-semantic-parsing/train.tsv', names=['text', 'tokens', 'schema'])\n",
    "data"
   ]
  },
  {
   "cell_type": "code",
   "execution_count": 17,
   "metadata": {},
   "outputs": [
    {
     "name": "stdout",
     "output_type": "stream",
     "text": [
      "10111\n"
     ]
    }
   ],
   "source": [
    "get_loc_mask = ['IN:GET_LOCATION' in text for text in data.schema]\n",
    "n_get_loc = sum(get_loc_mask)\n",
    "print(n_get_loc)"
   ]
  },
  {
   "cell_type": "code",
   "execution_count": 33,
   "metadata": {},
   "outputs": [
    {
     "name": "stdout",
     "output_type": "stream",
     "text": [
      "Take :  8089\n",
      "Leave:  2022\n"
     ]
    }
   ],
   "source": [
    "n_leave = int(n_get_loc * 0.2)\n",
    "n_take = n_get_loc - n_leave\n",
    "\n",
    "print('Take : ', n_take)\n",
    "print('Leave: ', n_leave)"
   ]
  },
  {
   "cell_type": "code",
   "execution_count": 20,
   "metadata": {},
   "outputs": [
    {
     "data": {
      "text/plain": [
       "[2, 3, 4, 5, 8, 9, 10, 12, 14, 17]"
      ]
     },
     "execution_count": 20,
     "metadata": {},
     "output_type": "execute_result"
    }
   ],
   "source": [
    "get_loc_mask_ids = [i for i, m in enumerate(get_loc_mask) if m]\n",
    "get_loc_mask_ids[:10]"
   ]
  },
  {
   "cell_type": "code",
   "execution_count": 21,
   "metadata": {},
   "outputs": [],
   "source": [
    "from random import shuffle"
   ]
  },
  {
   "cell_type": "code",
   "execution_count": 22,
   "metadata": {},
   "outputs": [
    {
     "data": {
      "text/plain": [
       "[17313, 24874, 3815, 29630, 20391, 21797, 10600, 9767, 22448, 25833]"
      ]
     },
     "execution_count": 22,
     "metadata": {},
     "output_type": "execute_result"
    }
   ],
   "source": [
    "shuffle(get_loc_mask_ids)\n",
    "get_loc_mask_ids[:10]"
   ]
  },
  {
   "cell_type": "code",
   "execution_count": 32,
   "metadata": {},
   "outputs": [],
   "source": [
    "small_subset_ids = get_loc_mask_ids[:n_take]\n",
    "small_subset = data.iloc[small_subset_ids]\n",
    "\n",
    "big_subset_ids = listsub(set(range(len(data))) - set(small_subset_ids))\n",
    "big_subset = data.iloc[big_subset_ids]"
   ]
  },
  {
   "cell_type": "code",
   "execution_count": 30,
   "metadata": {},
   "outputs": [],
   "source": [
    "all_schema_tokens = {'IN:COMBINE',\n",
    " 'IN:GET_CONTACT',\n",
    " 'IN:GET_DIRECTIONS',\n",
    " 'IN:GET_DISTANCE',\n",
    " 'IN:GET_ESTIMATED_ARRIVAL',\n",
    " 'IN:GET_ESTIMATED_DEPARTURE',\n",
    " 'IN:GET_ESTIMATED_DURATION',\n",
    " 'IN:GET_EVENT',\n",
    " 'IN:GET_EVENT_ATTENDEE',\n",
    " 'IN:GET_EVENT_ATTENDEE_AMOUNT',\n",
    " 'IN:GET_EVENT_ORGANIZER',\n",
    " 'IN:GET_INFO_ROAD_CONDITION',\n",
    " 'IN:GET_INFO_ROUTE',\n",
    " 'IN:GET_INFO_TRAFFIC',\n",
    " 'IN:GET_LOCATION',\n",
    " 'IN:GET_LOCATION_HOME',\n",
    " 'IN:GET_LOCATION_HOMETOWN',\n",
    " 'IN:GET_LOCATION_SCHOOL',\n",
    " 'IN:GET_LOCATION_WORK',\n",
    " 'IN:NEGATION',\n",
    " 'IN:UNINTELLIGIBLE',\n",
    " 'IN:UNSUPPORTED',\n",
    " 'IN:UNSUPPORTED_EVENT',\n",
    " 'IN:UNSUPPORTED_NAVIGATION',\n",
    " 'IN:UPDATE_DIRECTIONS',\n",
    " 'SL:AMOUNT',\n",
    " 'SL:ATTENDEE_EVENT',\n",
    " 'SL:ATTRIBUTE_EVENT',\n",
    " 'SL:CATEGORY_EVENT',\n",
    " 'SL:CATEGORY_LOCATION',\n",
    " 'SL:COMBINE',\n",
    " 'SL:CONTACT',\n",
    " 'SL:CONTACT_RELATED',\n",
    " 'SL:DATE_TIME',\n",
    " 'SL:DATE_TIME_ARRIVAL',\n",
    " 'SL:DATE_TIME_DEPARTURE',\n",
    " 'SL:DESTINATION',\n",
    " 'SL:GROUP',\n",
    " 'SL:LOCATION',\n",
    " 'SL:LOCATION_CURRENT',\n",
    " 'SL:LOCATION_MODIFIER',\n",
    " 'SL:LOCATION_USER',\n",
    " 'SL:LOCATION_WORK',\n",
    " 'SL:METHOD_TRAVEL',\n",
    " 'SL:NAME_EVENT',\n",
    " 'SL:OBSTRUCTION',\n",
    " 'SL:OBSTRUCTION_AVOID',\n",
    " 'SL:ORDINAL',\n",
    " 'SL:ORGANIZER_EVENT',\n",
    " 'SL:PATH',\n",
    " 'SL:PATH_AVOID',\n",
    " 'SL:POINT_ON_MAP',\n",
    " 'SL:ROAD_CONDITION',\n",
    " 'SL:ROAD_CONDITION_AVOID',\n",
    " 'SL:SEARCH_RADIUS',\n",
    " 'SL:SOURCE',\n",
    " 'SL:TYPE_RELATION',\n",
    " 'SL:UNIT_DISTANCE',\n",
    " 'SL:WAYPOINT',\n",
    " 'SL:WAYPOINT_ADDED',\n",
    " 'SL:WAYPOINT_AVOID'}"
   ]
  },
  {
   "cell_type": "code",
   "execution_count": 39,
   "metadata": {},
   "outputs": [],
   "source": [
    "from collections import Counter\n",
    "from tqdm.auto import tqdm\n",
    "\n",
    "import matplotlib.pyplot as plt"
   ]
  },
  {
   "cell_type": "code",
   "execution_count": 64,
   "metadata": {},
   "outputs": [
    {
     "data": {
      "application/vnd.jupyter.widget-view+json": {
       "model_id": "67a9f7600cc24369b586f543869ffea3",
       "version_major": 2,
       "version_minor": 0
      },
      "text/plain": [
       "HBox(children=(FloatProgress(value=0.0, max=23190.0), HTML(value='')))"
      ]
     },
     "metadata": {},
     "output_type": "display_data"
    },
    {
     "name": "stdout",
     "output_type": "stream",
     "text": [
      "\n"
     ]
    },
    {
     "data": {
      "application/vnd.jupyter.widget-view+json": {
       "model_id": "3ec7ed59579145ae8748ec97f2420038",
       "version_major": 2,
       "version_minor": 0
      },
      "text/plain": [
       "HBox(children=(FloatProgress(value=0.0, max=8089.0), HTML(value='')))"
      ]
     },
     "metadata": {},
     "output_type": "display_data"
    },
    {
     "name": "stdout",
     "output_type": "stream",
     "text": [
      "\n"
     ]
    }
   ],
   "source": [
    "frequencies_big = Counter()\n",
    "\n",
    "for schema_str in tqdm(big_subset.schema):\n",
    "    for token in all_schema_tokens:\n",
    "        if token in schema_str:\n",
    "            frequencies_big[token] += 1\n",
    "\n",
    "            \n",
    "frequencies_small = Counter()\n",
    "\n",
    "for schema_str in tqdm(small_subset.schema):\n",
    "    for token in all_schema_tokens:\n",
    "        if token in schema_str:\n",
    "            frequencies_small[token] += 1"
   ]
  },
  {
   "cell_type": "code",
   "execution_count": 69,
   "metadata": {},
   "outputs": [
    {
     "data": {
      "text/plain": [
       "<matplotlib.axes._subplots.AxesSubplot at 0x7f7d725872d0>"
      ]
     },
     "execution_count": 69,
     "metadata": {},
     "output_type": "execute_result"
    },
    {
     "data": {
      "image/png": "[encoded data removed]",
      "text/plain": [
       "<Figure size 1296x720 with 1 Axes>"
      ]
     },
     "metadata": {
      "needs_background": "light"
     },
     "output_type": "display_data"
    }
   ],
   "source": [
    "labels, values_big = zip(*frequencies_big.most_common())\n",
    "\n",
    "values_small = [frequencies_small[l] for l in labels]\n",
    "\n",
    "_plot_df = pd.DataFrame({'token': labels, 'big_subset': values_big, 'small_subset': values_small})\n",
    "\n",
    "_plot_df.plot('token', ['big_subset', 'small_subset'], kind='bar', figsize=(18, 10))"
   ]
  },
  {
   "cell_type": "code",
   "execution_count": 74,
   "metadata": {},
   "outputs": [
    {
     "data": {
      "text/plain": [
       "['IN:GET_LOCATION',\n",
       " 'IN:GET_LOCATION_HOME',\n",
       " 'SL:POINT_ON_MAP',\n",
       " 'SL:CATEGORY_LOCATION',\n",
       " 'SL:CONTACT',\n",
       " 'SL:LOCATION_USER',\n",
       " 'SL:SEARCH_RADIUS',\n",
       " 'SL:LOCATION_MODIFIER',\n",
       " 'IN:GET_LOCATION_WORK',\n",
       " 'SL:TYPE_RELATION',\n",
       " 'SL:CONTACT_RELATED',\n",
       " 'SL:WAYPOINT',\n",
       " 'IN:GET_LOCATION_SCHOOL',\n",
       " 'IN:GET_INFO_ROUTE',\n",
       " 'SL:LOCATION_CURRENT',\n",
       " 'SL:LOCATION_WORK']"
      ]
     },
     "execution_count": 74,
     "metadata": {},
     "output_type": "execute_result"
    }
   ],
   "source": [
    "small_subset_classes = [l for l, v_big, v_small in zip(labels, values_big, values_small) if v_small > 1.5 * v_big]\n",
    "small_subset_classes"
   ]
  },
  {
   "cell_type": "code",
   "execution_count": 77,
   "metadata": {},
   "outputs": [],
   "source": [
    "import os"
   ]
  },
  {
   "cell_type": "code",
   "execution_count": 80,
   "metadata": {},
   "outputs": [],
   "source": [
    "os.makedirs('../data/splits/get_location_80_20/subset80')\n",
    "os.makedirs('../data/splits/get_location_80_20/subset20')\n",
    "\n",
    "big_subset.to_csv('../data/splits/get_location_80_20/subset80/train.tsv', sep='\\t', index=False)\n",
    "small_subset.to_csv('../data/splits/get_location_80_20/subset20/train.tsv', sep='\\t', index=False)"
   ]
  },
  {
   "cell_type": "code",
   "execution_count": 83,
   "metadata": {},
   "outputs": [
    {
     "data": {
      "text/plain": [
       "(23190, 8089)"
      ]
     },
     "execution_count": 83,
     "metadata": {},
     "output_type": "execute_result"
    }
   ],
   "source": [
    "len(big_subset), len(small_subset)"
   ]
  },
  {
   "cell_type": "code",
   "execution_count": null,
   "metadata": {},
   "outputs": [],
   "source": []
  }
 ],
 "metadata": {
  "kernelspec": {
   "display_name": "Python 3",
   "language": "python",
   "name": "python3"
  },
  "language_info": {
   "codemirror_mode": {
    "name": "ipython",
    "version": 3
   },
   "file_extension": ".py",
   "mimetype": "text/x-python",
   "name": "python",
   "nbconvert_exporter": "python",
   "pygments_lexer": "ipython3",
   "version": "3.7.6"
  }
 },
 "nbformat": 4,
 "nbformat_minor": 4
}
