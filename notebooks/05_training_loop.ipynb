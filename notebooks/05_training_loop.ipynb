{
 "cells": [
  {
   "cell_type": "code",
   "execution_count": 1,
   "metadata": {},
   "outputs": [],
   "source": [
    "import sys\n",
    "sys.path.append('..')\n",
    "\n",
    "%load_ext autoreload\n",
    "%autoreload 2"
   ]
  },
  {
   "cell_type": "code",
   "execution_count": 2,
   "metadata": {},
   "outputs": [],
   "source": [
    "import torch\n",
    "import torch.nn as nn\n",
    "import torch.nn.functional as F\n",
    "\n",
    "import numpy as np\n",
    "\n",
    "import transformers\n",
    "import tokenizers\n",
    "\n",
    "from new_semantic_parsing import EncoderDecoderWPointerModel\n",
    "from new_semantic_parsing import TopSchemaTokenizer\n",
    "from new_semantic_parsing.utils import DataCollator, InputDataClass"
   ]
  },
  {
   "cell_type": "code",
   "execution_count": 3,
   "metadata": {},
   "outputs": [],
   "source": [
    "tokenizer = transformers.AutoTokenizer.from_pretrained('distilbert-base-uncased')\n",
    "\n",
    "vocab = {'[', ']', 'IN:', 'SL:', 'GET_DIRECTIONS', 'DESTINATION',\n",
    "         'DATE_TIME_DEPARTURE', 'GET_ESTIMATED_ARRIVAL'}\n",
    "schema_tokenizer = TopSchemaTokenizer(vocab, tokenizer)"
   ]
  },
  {
   "cell_type": "code",
   "execution_count": 4,
   "metadata": {},
   "outputs": [],
   "source": [
    "model = EncoderDecoderWPointerModel.from_parameters(\n",
    "    layers=3, hidden=128, heads=4,\n",
    "    src_vocab_size=tokenizer.vocab_size, tgt_vocab_size=schema_tokenizer.vocab_size\n",
    ")"
   ]
  },
  {
   "cell_type": "code",
   "execution_count": 5,
   "metadata": {},
   "outputs": [
    {
     "name": "stdout",
     "output_type": "stream",
     "text": [
      "[[101, 7826, 2000, 15521, 102, 0, 0], [101, 2131, 7826, 2000, 3137, 3193, 102]]\n",
      "{'input_ids': tensor([[ 7,  3,  6, 10, 11,  7,  1,  5, 12,  4,  4,  0,  0],\n",
      "        [ 7,  3,  6, 10, 11, 12,  7,  1,  5, 13, 14,  4,  4]]), 'attention_mask': tensor([[1., 1., 1., 1., 1., 1., 1., 1., 1., 1., 1., 0., 0.],\n",
      "        [1., 1., 1., 1., 1., 1., 1., 1., 1., 1., 1., 1., 1.]])}\n"
     ]
    }
   ],
   "source": [
    "source_texts = [\n",
    "    'Directions to Lowell',\n",
    "    'Get directions to Mountain View',\n",
    "]\n",
    "schema_texts = [\n",
    "    '[IN:GET_DIRECTIONS Directions to [SL:DESTINATION Lowell]]',\n",
    "    '[IN:GET_DIRECTIONS Get directions to [SL:DESTINATION Mountain View]]'\n",
    "]\n",
    "\n",
    "source_ids = tokenizer.batch_encode_plus(source_texts, pad_to_max_length=True)['input_ids']\n",
    "schema_batch = schema_tokenizer.batch_encode_plus(\n",
    "    schema_texts, source_ids, pad_to_max_length=True, return_tensors='pt'\n",
    ")\n",
    "\n",
    "print(source_ids)\n",
    "print(schema_batch)"
   ]
  },
  {
   "cell_type": "code",
   "execution_count": 6,
   "metadata": {},
   "outputs": [
    {
     "data": {
      "text/plain": [
       "tensor([[0., 1., 1., 1., 0., 0., 0.],\n",
       "        [0., 1., 1., 1., 1., 1., 0.]])"
      ]
     },
     "execution_count": 6,
     "metadata": {},
     "output_type": "execute_result"
    }
   ],
   "source": [
    "source_ids = torch.LongTensor(source_ids)\n",
    "source_ids_mask = ((source_ids != tokenizer.pad_token_id) &\n",
    "                   (source_ids != tokenizer.cls_token_id) &\n",
    "                   (source_ids != tokenizer.sep_token_id)).type(torch.FloatTensor)\n",
    "source_ids_mask"
   ]
  },
  {
   "cell_type": "code",
   "execution_count": 7,
   "metadata": {},
   "outputs": [],
   "source": [
    "class MockDataset(torch.utils.data.Dataset):\n",
    "    def __len__(self): return 2\n",
    "\n",
    "    def __getitem__(self, i):\n",
    "        return InputDataClass(**{\n",
    "            'input_ids': source_ids[i],\n",
    "            'attention_mask': source_ids_mask[i],\n",
    "            'decoder_input_ids': schema_batch['input_ids'][i],\n",
    "            'decoder_attention_mask': schema_batch['attention_mask'][i],\n",
    "            'labels': schema_batch['input_ids'][i],\n",
    "        })\n",
    "\n",
    "def compute_metrics(eval_prediction: transformers.EvalPrediction):\n",
    "    predictions = np.argmax(eval_prediction.predictions, axis=-1)\n",
    "    accuracy = np.mean(predictions.reshape(-1) == eval_prediction.label_ids.reshape(-1))\n",
    "\n",
    "    return {\n",
    "        'accuracy': accuracy,\n",
    "    }"
   ]
  },
  {
   "cell_type": "code",
   "execution_count": 12,
   "metadata": {},
   "outputs": [],
   "source": [
    "train_args = transformers.TrainingArguments(\n",
    "    output_dir='output_debug',\n",
    "    do_train=True,\n",
    "    num_train_epochs=100,\n",
    "    seed=42,\n",
    ")\n",
    "\n",
    "trainer = transformers.Trainer(\n",
    "    model,\n",
    "    train_args,\n",
    "    train_dataset=MockDataset(),\n",
    "    data_collator=DataCollator(),\n",
    "    eval_dataset=MockDataset(),\n",
    "    compute_metrics=compute_metrics,\n",
    ")\n",
    "\n",
    "# a trick to reduce the amount of logging\n",
    "trainer.is_local_master = lambda: False"
   ]
  },
  {
   "cell_type": "code",
   "execution_count": 13,
   "metadata": {},
   "outputs": [
    {
     "data": {
      "text/plain": [
       "TrainOutput(global_step=100, training_loss=0.18632038921117783)"
      ]
     },
     "execution_count": 13,
     "metadata": {},
     "output_type": "execute_result"
    }
   ],
   "source": [
    "trainer.train()"
   ]
  },
  {
   "cell_type": "code",
   "execution_count": 14,
   "metadata": {},
   "outputs": [
    {
     "data": {
      "application/vnd.jupyter.widget-view+json": {
       "model_id": "95e16ed291964c3bb690f2780555c3ee",
       "version_major": 2,
       "version_minor": 0
      },
      "text/plain": [
       "HBox(children=(FloatProgress(value=0.0, description='Evaluation', max=1.0, style=ProgressStyle(description_wid…"
      ]
     },
     "metadata": {},
     "output_type": "display_data"
    },
    {
     "name": "stdout",
     "output_type": "stream",
     "text": [
      "\n",
      "{\"eval_loss\": 0.07112160325050354, \"eval_accuracy\": 1.0, \"epoch\": 100.0, \"step\": 100}\n"
     ]
    },
    {
     "data": {
      "text/plain": [
       "{'eval_loss': 0.07112160325050354, 'eval_accuracy': 1.0, 'epoch': 100.0}"
      ]
     },
     "execution_count": 14,
     "metadata": {},
     "output_type": "execute_result"
    }
   ],
   "source": [
    "trainer.evaluate()"
   ]
  },
  {
   "cell_type": "code",
   "execution_count": 17,
   "metadata": {},
   "outputs": [],
   "source": [
    "!rm -r output_debug\n",
    "!rm -r runs"
   ]
  },
  {
   "cell_type": "code",
   "execution_count": null,
   "metadata": {},
   "outputs": [],
   "source": []
  }
 ],
 "metadata": {
  "kernelspec": {
   "display_name": "Python 3",
   "language": "python",
   "name": "python3"
  },
  "language_info": {
   "codemirror_mode": {
    "name": "ipython",
    "version": 3
   },
   "file_extension": ".py",
   "mimetype": "text/x-python",
   "name": "python",
   "nbconvert_exporter": "python",
   "pygments_lexer": "ipython3",
   "version": "3.7.6"
  }
 },
 "nbformat": 4,
 "nbformat_minor": 4
}
