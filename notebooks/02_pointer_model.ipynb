{
 "cells": [
  {
   "cell_type": "code",
   "execution_count": 1,
   "metadata": {},
   "outputs": [],
   "source": [
    "import sys\n",
    "sys.path.append('..')\n",
    "\n",
    "%load_ext autoreload\n",
    "%autoreload 2"
   ]
  },
  {
   "cell_type": "code",
   "execution_count": 2,
   "metadata": {},
   "outputs": [],
   "source": [
    "import torch\n",
    "\n",
    "import transformers\n",
    "import tokenizers\n",
    "\n",
    "from new_semantic_parsing import EncoderDecoderWPointerModel"
   ]
  },
  {
   "cell_type": "code",
   "execution_count": 13,
   "metadata": {},
   "outputs": [],
   "source": [
    "ENCODER_NAME = 'distilbert-base-uncased'\n",
    "OUT_VOCAB_SIZE = 100\n",
    "HIDDEN = 768\n",
    "\n",
    "BS = 3\n",
    "SRC_LEN = 5\n",
    "TGT_LEN = 7"
   ]
  },
  {
   "cell_type": "code",
   "execution_count": 4,
   "metadata": {},
   "outputs": [],
   "source": [
    "tokenizer = transformers.AutoTokenizer.from_pretrained(ENCODER_NAME, use_fast=True)\n",
    "encoder = transformers.AutoModel.from_pretrained(ENCODER_NAME)\n",
    "\n",
    "# BERTConfig is a generic transformer and is only decoder Transformers support by now\n",
    "decoder_config = transformers.BertConfig(\n",
    "    vocab_size=OUT_VOCAB_SIZE,\n",
    "    hidden_size=HIDDEN,\n",
    "    is_decoder=True,  # adds cross-attention modules and enables causal masking\n",
    ")\n",
    "\n",
    "decoder = transformers.BertModel(decoder_config)"
   ]
  },
  {
   "cell_type": "code",
   "execution_count": 7,
   "metadata": {},
   "outputs": [],
   "source": [
    "model = EncoderDecoderWPointerModel(encoder, decoder)"
   ]
  },
  {
   "cell_type": "code",
   "execution_count": 21,
   "metadata": {},
   "outputs": [],
   "source": [
    "x_enc = torch.randint(0, tokenizer.vocab_size, size=(BS, SRC_LEN))\n",
    "x_dec = torch.randint(0, OUT_VOCAB_SIZE, size=(BS, TGT_LEN))\n",
    "\n",
    "out = model(input_ids=x_enc, decoder_input_ids=x_dec)\n",
    "combined_logits, decoder_hidden, decoder_pooled, encoder_hidden = out\n",
    "\n",
    "assert combined_logits.shape == (BS, TGT_LEN, OUT_VOCAB_SIZE + SRC_LEN)"
   ]
  },
  {
   "cell_type": "code",
   "execution_count": 23,
   "metadata": {},
   "outputs": [
    {
     "data": {
      "text/plain": [
       "torch.Size([3, 768])"
      ]
     },
     "execution_count": 23,
     "metadata": {},
     "output_type": "execute_result"
    }
   ],
   "source": [
    "decoder_pooled.shape"
   ]
  },
  {
   "cell_type": "code",
   "execution_count": null,
   "metadata": {},
   "outputs": [],
   "source": []
  }
 ],
 "metadata": {
  "kernelspec": {
   "display_name": "Python 3",
   "language": "python",
   "name": "python3"
  },
  "language_info": {
   "codemirror_mode": {
    "name": "ipython",
    "version": 3
   },
   "file_extension": ".py",
   "mimetype": "text/x-python",
   "name": "python",
   "nbconvert_exporter": "python",
   "pygments_lexer": "ipython3",
   "version": "3.7.6"
  }
 },
 "nbformat": 4,
 "nbformat_minor": 4
}
